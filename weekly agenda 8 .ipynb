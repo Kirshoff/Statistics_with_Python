{
 "cells": [
  {
   "cell_type": "markdown",
   "metadata": {},
   "source": [
    "# Randomness and Probability"
   ]
  },
  {
   "cell_type": "markdown",
   "metadata": {},
   "source": [
    "In this exercise, we will use random.choice to produce random samples with and without replacement. Follow these steps to complete this exercise:"
   ]
  },
  {
   "cell_type": "markdown",
   "metadata": {},
   "source": [
    "1.Import the NumPy library:"
   ]
  },
  {
   "cell_type": "code",
   "execution_count": 1,
   "metadata": {},
   "outputs": [],
   "source": [
    "import numpy as np"
   ]
  },
  {
   "cell_type": "markdown",
   "metadata": {},
   "source": [
    "2.Create two lists containing four different suits and 13 different ranks in the set of standard cards:"
   ]
  },
  {
   "cell_type": "code",
   "execution_count": 72,
   "metadata": {},
   "outputs": [],
   "source": [
    "suits=['clubs','diamond','hearts','spades']\n",
    "# ranks=['Ace', 'Jack', 'Queen', 'King']+ list(range(2,11))\n",
    "ranks=['Ace','2','3','4','5','6','7','8','9','10','Jack', 'Queen', 'King']"
   ]
  },
  {
   "cell_type": "markdown",
   "metadata": {},
   "source": [
    "3.Create a list, named cards, containing the 52 cards of the standard deck:"
   ]
  },
  {
   "cell_type": "code",
   "execution_count": 73,
   "metadata": {},
   "outputs": [
    {
     "name": "stdout",
     "output_type": "stream",
     "text": [
      "[('Ace', 'clubs'), ('Ace', 'diamond'), ('Ace', 'hearts'), ('Ace', 'spades'), ('2', 'clubs'), ('2', 'diamond'), ('2', 'hearts'), ('2', 'spades'), ('3', 'clubs'), ('3', 'diamond'), ('3', 'hearts'), ('3', 'spades'), ('4', 'clubs'), ('4', 'diamond'), ('4', 'hearts'), ('4', 'spades'), ('5', 'clubs'), ('5', 'diamond'), ('5', 'hearts'), ('5', 'spades'), ('6', 'clubs'), ('6', 'diamond'), ('6', 'hearts'), ('6', 'spades'), ('7', 'clubs'), ('7', 'diamond'), ('7', 'hearts'), ('7', 'spades'), ('8', 'clubs'), ('8', 'diamond'), ('8', 'hearts'), ('8', 'spades'), ('9', 'clubs'), ('9', 'diamond'), ('9', 'hearts'), ('9', 'spades'), ('10', 'clubs'), ('10', 'diamond'), ('10', 'hearts'), ('10', 'spades'), ('Jack', 'clubs'), ('Jack', 'diamond'), ('Jack', 'hearts'), ('Jack', 'spades'), ('Queen', 'clubs'), ('Queen', 'diamond'), ('Queen', 'hearts'), ('Queen', 'spades'), ('King', 'clubs'), ('King', 'diamond'), ('King', 'hearts'), ('King', 'spades')]\n"
     ]
    }
   ],
   "source": [
    "import itertools\n",
    "cards = list(itertools.product(ranks, suits))\n",
    "# or\n",
    "cards=[(i,j) for i in ranks for j in suits]\n",
    "print(cards)"
   ]
  },
  {
   "cell_type": "markdown",
   "metadata": {},
   "source": [
    "4.Use the np.random.choice function to draw a hand (five cards) from the deck. Use replace=False so that each card gets selected only once:"
   ]
  },
  {
   "cell_type": "code",
   "execution_count": 74,
   "metadata": {},
   "outputs": [],
   "source": [
    "from numpy.random import choice\n",
    "import pandas as pd"
   ]
  },
  {
   "cell_type": "code",
   "execution_count": 76,
   "metadata": {},
   "outputs": [
    {
     "data": {
      "text/plain": [
       "['8-diamond', '8-clubs', '3-spades', '3-clubs', 'Jack-hearts']"
      ]
     },
     "execution_count": 76,
     "metadata": {},
     "output_type": "execute_result"
    }
   ],
   "source": [
    "#The result should look something like this (you might get different cards): \n",
    "#['Ace-clubs' '5-clubs' '7-clubs' '9-clubs' '6-clubs']\n",
    "card_series=pd.Series(cards)\n",
    "\n",
    "['-'.join(card_series[i]) for i in choice(52,5,replace=False)]\n"
   ]
  },
  {
   "cell_type": "markdown",
   "metadata": {},
   "source": [
    "5.Now, create a function named deal_hands that returns two lists, each with five cards drawn from the same deck. Use replace=False in the np.random.choice function. This function will perform sampling without replacement:\n",
    "\n",
    "To print the output, run the function like so:\n",
    "deal_hands()"
   ]
  },
  {
   "cell_type": "code",
   "execution_count": 77,
   "metadata": {},
   "outputs": [
    {
     "name": "stdout",
     "output_type": "stream",
     "text": [
      "[('Jack', 'diamond'), ('3', 'hearts'), ('2', 'hearts'), ('King', 'diamond'), ('5', 'clubs')]\n",
      "[('Jack', 'clubs'), ('10', 'clubs'), ('Queen', 'hearts'), ('Jack', 'spades'), ('7', 'clubs')]\n"
     ]
    }
   ],
   "source": [
    "def deal_hands():\n",
    "    c=[card_series[i] for i in choice(52,10,replace=False)]\n",
    "    print(c[:len(c)//2], c[len(c)//2:], sep='\\n')\n",
    "        \n",
    "deal_hands()\n",
    "        "
   ]
  },
  {
   "cell_type": "code",
   "execution_count": null,
   "metadata": {},
   "outputs": [],
   "source": [
    "#You should get something like this:\n",
    "#(['9-spades', 'Ace-clubs', 'Queen-diamonds', '2-diamonds',  '9-diamonds'],\n",
    "# ['Jack-hearts', '8-clubs', '10-clubs', '4-spades', 'Queen-hearts'])"
   ]
  },
  {
   "cell_type": "markdown",
   "metadata": {},
   "source": [
    "6.Create a second function called deal_hands2 that's identical to the last one, but with the replace=True argument in the np.random.choice function. This function will perform sampling with replacement:"
   ]
  },
  {
   "cell_type": "code",
   "execution_count": 82,
   "metadata": {},
   "outputs": [
    {
     "name": "stdout",
     "output_type": "stream",
     "text": [
      "[('8', 'hearts'), ('4', 'hearts'), ('8', 'diamond'), ('8', 'spades'), ('2', 'spades')]\n",
      "[('King', 'clubs'), ('Jack', 'hearts'), ('8', 'diamond'), ('10', 'hearts'), ('King', 'spades')]\n"
     ]
    }
   ],
   "source": [
    "def deal_hands2():\n",
    "    c=[card_series[i] for i in choice(52,10,replace=True)]\n",
    "    print(c[:len(c)//2], c[len(c)//2:], sep='\\n')\n",
    "    \n",
    "deal_hands2()"
   ]
  },
  {
   "cell_type": "markdown",
   "metadata": {},
   "source": [
    "7.Finally, run the following code: "
   ]
  },
  {
   "cell_type": "code",
   "execution_count": 84,
   "metadata": {},
   "outputs": [
    {
     "name": "stdout",
     "output_type": "stream",
     "text": [
      "[('Jack', 'clubs'), ('4', 'spades'), ('Queen', 'diamond'), ('3', 'clubs'), ('6', 'hearts')]\n",
      "[('Jack', 'spades'), ('5', 'hearts'), ('3', 'spades'), ('Jack', 'clubs'), ('2', 'spades')]\n"
     ]
    }
   ],
   "source": [
    "np.random.seed(2)\n",
    "deal_hands2()"
   ]
  },
  {
   "cell_type": "markdown",
   "metadata": {},
   "source": [
    "# Binomial Distribution"
   ]
  },
  {
   "cell_type": "markdown",
   "metadata": {},
   "source": [
    "### Exercise: Checking If a Random Variable Follows a Binomial Distribution"
   ]
  },
  {
   "cell_type": "markdown",
   "metadata": {},
   "source": [
    "In this exercise, we will practice how to verify if a random variable follows a binomial distribution. We will also create a random variable using scipy.stats and plot the distribution. This will be a mostly conceptual exercise.\n",
    "\n",
    "Here, we will check if the random variable, Z: number of defective auto parts in a 12-box pack, follows a binomial distribution (remember that we consider 4% of the auto parts are defective). Follow these steps to complete this exercise:"
   ]
  },
  {
   "cell_type": "markdown",
   "metadata": {},
   "source": [
    "1.Import NumPy, Matplotlib, and scipy.stats following the usual conventions:"
   ]
  },
  {
   "cell_type": "code",
   "execution_count": 14,
   "metadata": {},
   "outputs": [],
   "source": [
    "import matplotlib.pyplot as plt\n",
    "from scipy import stats\n",
    "import numpy as np\n",
    "import seaborn as sns"
   ]
  },
  {
   "cell_type": "markdown",
   "metadata": {},
   "source": [
    "2.Try to conceptually check if Z fulfills the properties given for a binomial random variable:"
   ]
  },
  {
   "cell_type": "markdown",
   "metadata": {},
   "source": [
    "The standard normal distribution is a normal distribution with a mean of zero and standard deviation of 1.  when using a standard normal distribution, we will use \"Z\" to refer to a variable in the context of a standard normal distribution.\n",
    "\n",
    "standarize edilmis normal dagilimin ortalamasindan(0) kac sigma(standart sapma) uzakta oldugumuza Z score denir."
   ]
  },
  {
   "cell_type": "markdown",
   "metadata": {},
   "source": [
    "3.Determine the p and n parameters for the distributions of this variable, that is, p = 0.04 and n = 12."
   ]
  },
  {
   "cell_type": "code",
   "execution_count": 130,
   "metadata": {},
   "outputs": [],
   "source": [
    "(n, p) = (12, 0.04)"
   ]
  },
  {
   "cell_type": "markdown",
   "metadata": {},
   "source": [
    "4.Use the theoretical formula with the former parameters to get the exact theoretical probability of getting exactly one defective piece per box (using x = 1): "
   ]
  },
  {
   "attachments": {
    "image.png": {
     "image/png": "[encoded data removed]"
    }
   },
   "cell_type": "markdown",
   "metadata": {},
   "source": [
    "#Use formula to calculate it.\n",
    "![image.png](attachment:image.png)"
   ]
  },
  {
   "cell_type": "code",
   "execution_count": 38,
   "metadata": {},
   "outputs": [
    {
     "name": "stdout",
     "output_type": "stream",
     "text": [
      "P(X = 1): 0.017414258687999996\n"
     ]
    }
   ],
   "source": [
    "f =lambda x:x<2 or x*f(x-1)\n",
    "com =lambda n,k: f(n) / (f(n-k)*f(k))\n",
    "\n",
    "k=1\n",
    "print('P(X = %s): %s' % ( k, com(n, k) * (p**k) * (1-p)**(n-k) ))"
   ]
  },
  {
   "cell_type": "markdown",
   "metadata": {},
   "source": [
    "5.Use the scipy.stats module to produce an instance of the Z random variable. Name it Z_r:"
   ]
  },
  {
   "cell_type": "code",
   "execution_count": 136,
   "metadata": {},
   "outputs": [],
   "source": [
    "binomDist = stats.binom(n, p)\n",
    "Z_r=binomDist.rvs(1000) #dist"
   ]
  },
  {
   "cell_type": "markdown",
   "metadata": {},
   "source": [
    "6.Plot the probability mass function of Z:"
   ]
  },
  {
   "cell_type": "code",
   "execution_count": 138,
   "metadata": {},
   "outputs": [
    {
     "data": {
      "image/png": "[encoded data removed]",
      "text/plain": [
       "<Figure size 432x288 with 1 Axes>"
      ]
     },
     "metadata": {
      "needs_background": "light"
     },
     "output_type": "display_data"
    }
   ],
   "source": [
    "ax=sns.countplot(Z_r)\n",
    "\n",
    "for p in ax.patches:\n",
    "        ax.annotate('{:.2f}'.format(p.get_height()/len(Z_r)), (p.get_x()+0.1, p.get_height()+1))"
   ]
  },
  {
   "cell_type": "code",
   "execution_count": 132,
   "metadata": {},
   "outputs": [
    {
     "name": "stdout",
     "output_type": "stream",
     "text": [
      "r\tpmf\tcdf\n",
      "_\t____\t___\n",
      "0\t0.6127\t0.6127\n",
      "1\t0.3064\t0.9191\n",
      "2\t0.0702\t0.9893\n",
      "3\t0.0098\t0.999\n",
      "4\t0.0009\t0.9999\n",
      "5\t0.0001\t1.0\n",
      "6\t0.0\t1.0\n",
      "7\t0.0\t1.0\n",
      "8\t0.0\t1.0\n",
      "9\t0.0\t1.0\n",
      "10\t0.0\t1.0\n",
      "11\t0.0\t1.0\n",
      "12\t0.0\t1.0\n"
     ]
    }
   ],
   "source": [
    "print(\"r\\tpmf\\tcdf\\n_\\t____\\t___\")\n",
    "for i in range(n+1):\n",
    "    print(str(i) + \"\\t\" + str(round(binomDist.pmf(i),4)) + \"\\t\" + str(round(binomDist.cdf(i),4)))"
   ]
  },
  {
   "cell_type": "markdown",
   "metadata": {},
   "source": [
    "# Normal Distribution"
   ]
  },
  {
   "cell_type": "markdown",
   "metadata": {},
   "source": [
    "### Exercise: Using the Normal Distribution in Education"
   ]
  },
  {
   "cell_type": "markdown",
   "metadata": {},
   "source": [
    "In this exercise, we'll use a normal distribution object from scipy.stats and the cdf and its inverse, ppf, to answer questions about education.\n",
    "\n",
    "In psychometrics and education, it is a well-known fact that many variables relevant to education policy are normally distributed. For instance, scores in standardized mathematics tests follow a normal distribution. In this exercise, we'll explore this phenomenon: in a certain country, high school students take a standardized mathematics test whose scores follow a normal distribution with the following parameters: mean = 100, standard deviation = 15. Follow these steps to complete this exercise:"
   ]
  },
  {
   "cell_type": "markdown",
   "metadata": {},
   "source": [
    "1.Import NumPy, Matplotlib, and scipy.stats following the usual conventions:"
   ]
  },
  {
   "cell_type": "code",
   "execution_count": 69,
   "metadata": {},
   "outputs": [],
   "source": [
    "import matplotlib.pyplot as plt\n",
    "from scipy import stats\n",
    "import numpy as np\n",
    "import seaborn as sns"
   ]
  },
  {
   "cell_type": "markdown",
   "metadata": {},
   "source": [
    "2.Use the scipy.stats module to produce an instance of a normally distributed random variable, named X_rv, with mean = 100 and standard deviation = 15:"
   ]
  },
  {
   "cell_type": "code",
   "execution_count": 180,
   "metadata": {},
   "outputs": [],
   "source": [
    "(mu, sigma) = (100, 15)\n",
    "normDist = stats.norm(mu, sigma)\n",
    "X_rv=normDist.rvs(10000)"
   ]
  },
  {
   "cell_type": "code",
   "execution_count": 181,
   "metadata": {},
   "outputs": [
    {
     "data": {
      "text/plain": [
       "100.14883792765482"
      ]
     },
     "execution_count": 181,
     "metadata": {},
     "output_type": "execute_result"
    }
   ],
   "source": [
    "mu_rv=np.mean(X_rv)\n",
    "mu_rv"
   ]
  },
  {
   "cell_type": "code",
   "execution_count": 182,
   "metadata": {},
   "outputs": [
    {
     "data": {
      "text/plain": [
       "15.011786644710117"
      ]
     },
     "execution_count": 182,
     "metadata": {},
     "output_type": "execute_result"
    }
   ],
   "source": [
    "sigma_rv=np.std(X_rv)\n",
    "sigma_rv"
   ]
  },
  {
   "cell_type": "markdown",
   "metadata": {},
   "source": [
    "3.Plot the probability distribution of X:"
   ]
  },
  {
   "cell_type": "code",
   "execution_count": 175,
   "metadata": {},
   "outputs": [
    {
     "data": {
      "image/png": "[encoded data removed]",
      "text/plain": [
       "<Figure size 432x288 with 1 Axes>"
      ]
     },
     "metadata": {
      "needs_background": "light"
     },
     "output_type": "display_data"
    }
   ],
   "source": [
    "y = normDist.pdf(x)\n",
    "plt.plot(X_rv, y)\n",
    "plt.grid()\n",
    "plt.show()"
   ]
  },
  {
   "cell_type": "markdown",
   "metadata": {},
   "source": [
    "4.The Ministry of Education has decided that the minimum score for someone to be considered competent in mathematics is 80. Use the cdf method to calculate the proportion of students that will get a score above that score:"
   ]
  },
  {
   "cell_type": "code",
   "execution_count": 100,
   "metadata": {},
   "outputs": [
    {
     "data": {
      "text/plain": [
       "0.9087887802741321"
      ]
     },
     "execution_count": 100,
     "metadata": {},
     "output_type": "execute_result"
    }
   ],
   "source": [
    "1-normDist.cdf(80)"
   ]
  },
  {
   "cell_type": "markdown",
   "metadata": {},
   "source": [
    "5.A very selective university wants to set very high standards for high school students that are admitted to their programs. The policy of the university is to only admit students with mathematics scores in the top 2% of the population. Use the ppf method (which is essentially the inverse function of the cdf method) with an argument of 1 - 0.02 = 0.98 to get the cut-off score for admission:"
   ]
  },
  {
   "cell_type": "code",
   "execution_count": 101,
   "metadata": {},
   "outputs": [
    {
     "data": {
      "text/plain": [
       "130.80623365947733"
      ]
     },
     "execution_count": 101,
     "metadata": {},
     "output_type": "execute_result"
    }
   ],
   "source": [
    "# ppf(percent point function) aka inverse of ctf(cumulative distribution function) aka Quantile function\n",
    "normDist.ppf(0.98)"
   ]
  },
  {
   "cell_type": "markdown",
   "metadata": {},
   "source": [
    "In this exercise, we used a normal distribution and the cdf and ppf methods to answer real-world questions about education policy."
   ]
  }
 ],
 "metadata": {
  "kernelspec": {
   "display_name": "Python 3",
   "language": "python",
   "name": "python3"
  },
  "language_info": {
   "codemirror_mode": {
    "name": "ipython",
    "version": 3
   },
   "file_extension": ".py",
   "mimetype": "text/x-python",
   "name": "python",
   "nbconvert_exporter": "python",
   "pygments_lexer": "ipython3",
   "version": "3.8.3"
  }
 },
 "nbformat": 4,
 "nbformat_minor": 2
}

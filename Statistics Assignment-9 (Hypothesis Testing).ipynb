{
 "cells": [
  {
   "cell_type": "markdown",
   "metadata": {},
   "source": [
    "#### EXERCISE 1. \n",
    "The hourly wages in a particular industry are normally distributed with mean 13.20 dollar and standard deviation 2.50 dollar. A company in this industry employs 40 workers, paying them an average of 12.20 dollar per hour. Can this company be accused of paying substandard wages? Use an α = .01 level test."
   ]
  },
  {
   "cell_type": "code",
   "execution_count": 1,
   "metadata": {},
   "outputs": [],
   "source": [
    "import random\n",
    "from math import sqrt\n",
    "import pandas as pd\n",
    "import matplotlib.pyplot as plt\n",
    "import numpy as np\n",
    "import scipy.stats as stats\n",
    "random.seed(101)"
   ]
  },
  {
   "cell_type": "code",
   "execution_count": 2,
   "metadata": {},
   "outputs": [],
   "source": [
    "# H0: mu=13.2 # null hypothesis,\n",
    "# H1: mu<13.2 # alternative hypothesis, left tail\n",
    "mu0=13.2\n",
    "sigma=2.5\n",
    "n=40\n",
    "x=12.2\n",
    "alpha=0.01 #significant level"
   ]
  },
  {
   "cell_type": "code",
   "execution_count": 3,
   "metadata": {},
   "outputs": [
    {
     "data": {
      "text/plain": [
       "-2.5298221281347035"
      ]
     },
     "execution_count": 3,
     "metadata": {},
     "output_type": "execute_result"
    }
   ],
   "source": [
    "# n >30, sigma is known, observations are independent so we use z test.\n",
    "z= (x-mu0)/(sigma/sqrt(n))\n",
    "z"
   ]
  },
  {
   "cell_type": "code",
   "execution_count": 4,
   "metadata": {},
   "outputs": [
    {
     "data": {
      "text/plain": [
       "-2.3263478740408408"
      ]
     },
     "execution_count": 4,
     "metadata": {},
     "output_type": "execute_result"
    }
   ],
   "source": [
    "Zα= stats.norm.ppf(alpha) # Zα: critical z value\n",
    "Zα"
   ]
  },
  {
   "cell_type": "code",
   "execution_count": 5,
   "metadata": {},
   "outputs": [],
   "source": [
    "# since z ≤ Zα, reject the null hypothesis(H0)"
   ]
  },
  {
   "cell_type": "code",
   "execution_count": 6,
   "metadata": {},
   "outputs": [
    {
     "data": {
      "text/plain": [
       "0.005706018193000826"
      ]
     },
     "execution_count": 6,
     "metadata": {},
     "output_type": "execute_result"
    }
   ],
   "source": [
    "pV=stats.norm.cdf(z)\n",
    "pV"
   ]
  },
  {
   "cell_type": "code",
   "execution_count": 7,
   "metadata": {},
   "outputs": [],
   "source": [
    "# P( z < -2.53 | H0=True ) = 0.0057\n",
    "\n",
    "# reject the null hypothesis(H0) when p-Value ≤ alpha\n",
    "# pV < alpha, so We reject the null hypothesis\n",
    "\n",
    "#conclusion: we should accept the alternative hypothesis.\n",
    "# this company can be accused of paying substandard wages"
   ]
  },
  {
   "cell_type": "code",
   "execution_count": 8,
   "metadata": {},
   "outputs": [
    {
     "data": {
      "text/plain": [
       "12.280430261017555"
      ]
     },
     "execution_count": 8,
     "metadata": {},
     "output_type": "execute_result"
    }
   ],
   "source": [
    "# Critical Value=?\n",
    "# z= (x-mu)/(sigma/sqrt(n)) >> Xc = mu0 + Zα*(sigma/sqrt(n))\n",
    "\n",
    "mu0 + stats.norm.ppf(alpha)*(sigma/sqrt(n))"
   ]
  },
  {
   "cell_type": "markdown",
   "metadata": {},
   "source": [
    "#### EXERCISE 2.\n",
    "Shear strength measurements derived from unconfined compression tests for two types of soils gave the results shown in the following document (measurements in tons per square foot). Do the soils appear to differ with respect to average shear strength, at the 1% significance level?"
   ]
  },
  {
   "cell_type": "code",
   "execution_count": 46,
   "metadata": {},
   "outputs": [],
   "source": [
    "# # Difference between means... we use z test\n",
    "\n",
    "# H0: x1-x2 = 0 # null hypothesis\n",
    "# H1: x1-x2 <> 0 # alternative hypothesis, (two tail)\n",
    "\n",
    "data = pd.read_csv(\"soil.csv\")\n",
    "alpha = 0.01 #significant level\n",
    "delta = 0\n"
   ]
  },
  {
   "cell_type": "code",
   "execution_count": 47,
   "metadata": {},
   "outputs": [],
   "source": [
    "n1=sum(data['Soil1'].notna())\n",
    "n2=sum(data['Soil2'].notna())\n",
    "x1=data['Soil1'].mean()\n",
    "x2=data['Soil2'].mean()\n",
    "s1=data['Soil1'].std()\n",
    "s2=data['Soil2'].std()"
   ]
  },
  {
   "cell_type": "code",
   "execution_count": 48,
   "metadata": {},
   "outputs": [
    {
     "name": "stdout",
     "output_type": "stream",
     "text": [
      "n1 = 30\n",
      "n2 = 35\n",
      "x1 = 1.692\n",
      "x2 = 1.417\n",
      "s1 = 0.207\n",
      "s2 = 0.219\n"
     ]
    }
   ],
   "source": [
    "print('n1 = {:.0f}'.format(n1))\n",
    "print('n2 = {:.0f}'.format(n2))\n",
    "\n",
    "print('x1 = {:.3f}'.format(x1))\n",
    "print('x2 = {:.3f}'.format(x2))\n",
    "\n",
    "print('s1 = {:.3f}'.format(s1))\n",
    "print('s2 = {:.3f}'.format(s2))"
   ]
  },
  {
   "cell_type": "code",
   "execution_count": 49,
   "metadata": {},
   "outputs": [
    {
     "data": {
      "text/plain": [
       "5.191460504717386"
      ]
     },
     "execution_count": 49,
     "metadata": {},
     "output_type": "execute_result"
    }
   ],
   "source": [
    "z=(x1-x2-delta)/sqrt(s1**2/n1+s2**2/n2)\n",
    "z"
   ]
  },
  {
   "cell_type": "code",
   "execution_count": 50,
   "metadata": {},
   "outputs": [
    {
     "data": {
      "text/plain": [
       "2.3263478740408408"
      ]
     },
     "execution_count": 50,
     "metadata": {},
     "output_type": "execute_result"
    }
   ],
   "source": [
    "Zc=stats.norm.ppf(1-alpha) # Critical z score\n",
    "Zc"
   ]
  },
  {
   "cell_type": "code",
   "execution_count": 51,
   "metadata": {},
   "outputs": [],
   "source": [
    "# Since z=5.19 is greater than Zc=2.326, we can reject the null hypothesis in favor of Ha"
   ]
  },
  {
   "cell_type": "code",
   "execution_count": 52,
   "metadata": {},
   "outputs": [
    {
     "data": {
      "text/plain": [
       "2.0865085144430152e-07"
      ]
     },
     "execution_count": 52,
     "metadata": {},
     "output_type": "execute_result"
    }
   ],
   "source": [
    "pV=2*stats.norm.cdf(-z)\n",
    "pV"
   ]
  },
  {
   "cell_type": "code",
   "execution_count": 53,
   "metadata": {},
   "outputs": [
    {
     "name": "stdout",
     "output_type": "stream",
     "text": [
      "At 0.01 level of significance, we can reject the null hypothesis in favor of Ha.\n"
     ]
    }
   ],
   "source": [
    "if pV < alpha:\n",
    "    print('At {} level of significance, we can reject the null hypothesis in favor of Ha.'.format(alpha))\n",
    "else:\n",
    "    print('At {} level of significance, we fail to reject the null hypothesis.'.format(alpha))"
   ]
  },
  {
   "cell_type": "code",
   "execution_count": 54,
   "metadata": {},
   "outputs": [],
   "source": [
    "# P( z > 5.19 | H0=True ) =~ 0\n",
    "\n",
    "# reject the null hypothesis(H0) when p-Value ≤ alpha\n",
    "# pV < alpha, so We reject the null hypothesis"
   ]
  },
  {
   "cell_type": "code",
   "execution_count": 43,
   "metadata": {},
   "outputs": [],
   "source": [
    "# At 0.01 level of significance, we reject the null hypothesis in favor of Ha.\n",
    "# We can say that there is enough strong evidence that soils differ in average shear strength."
   ]
  }
 ],
 "metadata": {
  "kernelspec": {
   "display_name": "Python 3",
   "language": "python",
   "name": "python3"
  },
  "language_info": {
   "codemirror_mode": {
    "name": "ipython",
    "version": 3
   },
   "file_extension": ".py",
   "mimetype": "text/x-python",
   "name": "python",
   "nbconvert_exporter": "python",
   "pygments_lexer": "ipython3",
   "version": "3.8.3"
  }
 },
 "nbformat": 4,
 "nbformat_minor": 4
}

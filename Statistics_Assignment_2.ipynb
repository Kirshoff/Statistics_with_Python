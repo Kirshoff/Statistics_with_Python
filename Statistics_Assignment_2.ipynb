{
 "cells": [
  {
   "cell_type": "markdown",
   "metadata": {
    "id": "K7S4cEyZLTp7"
   },
   "source": [
    "## Descriptive Statistics"
   ]
  },
  {
   "cell_type": "markdown",
   "metadata": {
    "id": "vZRYVyc8H7hi"
   },
   "source": [
    " Import **NumPy**, **SciPy**, and **Pandas**"
   ]
  },
  {
   "cell_type": "code",
   "execution_count": 3,
   "metadata": {
    "id": "7ShN0klrHIk3"
   },
   "outputs": [],
   "source": [
    "import numpy as np\n",
    "import scipy as sc\n",
    "import pandas as pd"
   ]
  },
  {
   "cell_type": "markdown",
   "metadata": {
    "id": "_SaQURIqIA6d"
   },
   "source": [
    " Randomly generate 1,000 samples from the normal distribution using `np.random.normal()`(mean = 100, standard deviation = 15)"
   ]
  },
  {
   "cell_type": "markdown",
   "metadata": {
    "id": "Xb63mUusUrRO"
   },
   "source": []
  },
  {
   "cell_type": "code",
   "execution_count": 4,
   "metadata": {
    "id": "Jyw_FMX0IRkm"
   },
   "outputs": [],
   "source": [
    "mu, sigma = 100, 15\n",
    "samples = np.random.normal(mu, sigma, 1000)"
   ]
  },
  {
   "cell_type": "code",
   "execution_count": 5,
   "metadata": {
    "colab": {
     "base_uri": "https://localhost:8080/",
     "height": 265
    },
    "id": "QMD1E6TXVjlO",
    "outputId": "2277458e-3766-4b64-899a-43da595820ca"
   },
   "outputs": [
    {
     "data": {
      "image/png": "[encoded data removed]",
      "text/plain": [
       "<Figure size 432x288 with 1 Axes>"
      ]
     },
     "metadata": {
      "needs_background": "light"
     },
     "output_type": "display_data"
    }
   ],
   "source": [
    "pd.Series(samples).plot.hist(bins=30,density=True,xlim=[35,155])\n",
    "pd.Series(samples).plot.kde(linewidth=2, color='r');"
   ]
  },
  {
   "cell_type": "code",
   "execution_count": 6,
   "metadata": {
    "colab": {
     "base_uri": "https://localhost:8080/",
     "height": 265
    },
    "id": "ZxysjSpTVHYY",
    "outputId": "18340ef7-7c37-4843-ad3f-0817fb9081ba"
   },
   "outputs": [
    {
     "data": {
      "image/png": "[encoded data removed]",
      "text/plain": [
       "<Figure size 432x288 with 1 Axes>"
      ]
     },
     "metadata": {
      "needs_background": "light"
     },
     "output_type": "display_data"
    }
   ],
   "source": [
    "# Alternate\n",
    "import matplotlib.pyplot as plt\n",
    "count, bins, ignored = plt.hist(samples, 30, density=True)\n",
    "plt.plot(bins, \n",
    "         1/(sigma * np.sqrt(2 * np.pi)) *\n",
    "               np.exp( - (bins - mu)**2 / (2 * sigma**2) ),\n",
    "         linewidth=2, color='r')\n",
    "plt.show()"
   ]
  },
  {
   "cell_type": "markdown",
   "metadata": {
    "id": "CDF8m3a4IYOC"
   },
   "source": [
    "Compute the **mean**, **median**, and **mode**"
   ]
  },
  {
   "cell_type": "code",
   "execution_count": 7,
   "metadata": {
    "colab": {
     "base_uri": "https://localhost:8080/"
    },
    "id": "ZKbeqxaKIoNs",
    "outputId": "feef5c89-6875-459d-a130-6535feb0ab51"
   },
   "outputs": [
    {
     "name": "stdout",
     "output_type": "stream",
     "text": [
      "mean\t: 100.12562912538063\n",
      "median\t: 100.32283073594766\n",
      "mode\t: 49.454645971854355\n"
     ]
    }
   ],
   "source": [
    "mean = np.mean(samples)\n",
    "median = np.median(samples)\n",
    "mode = sc.stats.mode(samples)[0][0]\n",
    "\n",
    "print(f\"\"\"mean\\t: {mean}\n",
    "median\\t: {median}\n",
    "mode\\t: {mode}\"\"\") "
   ]
  },
  {
   "cell_type": "markdown",
   "metadata": {
    "id": "skT8m39XI60w"
   },
   "source": [
    "Compute the **min**, **max**, **Q1**, **Q3**, and **interquartile range**"
   ]
  },
  {
   "cell_type": "code",
   "execution_count": 8,
   "metadata": {
    "colab": {
     "base_uri": "https://localhost:8080/"
    },
    "id": "VaiDphm8It0O",
    "outputId": "b31c4d9e-803b-46e3-c9d4-e354b49ffcef"
   },
   "outputs": [
    {
     "name": "stdout",
     "output_type": "stream",
     "text": [
      "min\t: 49.454645971854355\n",
      "max\t: 148.78245604996224\n",
      "Q1\t: 89.8231249630904\n",
      "Q3\t: 110.41579785664395\n",
      "IQR\t: 20.592672893553555\n"
     ]
    }
   ],
   "source": [
    "min = np.min(samples)\n",
    "max = np.max(samples)\n",
    "q1 = np.percentile(samples,25)\n",
    "q3 = np.percentile(samples,75)\n",
    "iqr = q3 - q1\n",
    "\n",
    "print(f\"\"\"min\\t: {min}\n",
    "max\\t: {max}\n",
    "Q1\\t: {q1}\n",
    "Q3\\t: {q3}\n",
    "IQR\\t: {iqr}\"\"\") "
   ]
  },
  {
   "cell_type": "markdown",
   "metadata": {
    "id": "m53Dv3n5JHQi"
   },
   "source": [
    "Compute the **variance** and **standard deviation**"
   ]
  },
  {
   "cell_type": "code",
   "execution_count": 9,
   "metadata": {
    "colab": {
     "base_uri": "https://localhost:8080/"
    },
    "id": "6JFaAYdrJbeN",
    "outputId": "8a0d0619-39c7-4219-a76e-5333fb5f7ddb"
   },
   "outputs": [
    {
     "name": "stdout",
     "output_type": "stream",
     "text": [
      "Variance: 229.02561905984814\n",
      "S.Dev\t: 15.133592404311942\n"
     ]
    }
   ],
   "source": [
    "variance = np.var(samples)\n",
    "std_dev = np.std(samples)\n",
    "\n",
    "print(f\"\"\"Variance: {variance}\n",
    "S.Dev\\t: {std_dev}\"\"\") "
   ]
  },
  {
   "cell_type": "markdown",
   "metadata": {
    "id": "5eup4hI1JzqX"
   },
   "source": [
    "Compute the **skewness** and **kurtosis**"
   ]
  },
  {
   "cell_type": "code",
   "execution_count": 10,
   "metadata": {
    "colab": {
     "base_uri": "https://localhost:8080/"
    },
    "id": "YO3obyDnJ3_D",
    "outputId": "6849b9ac-ca13-4196-bdfb-ce940866716a"
   },
   "outputs": [
    {
     "name": "stdout",
     "output_type": "stream",
     "text": [
      "Skewness: -0.02073125578872321\n",
      "Kurtosis: 0.004587048984168174\n"
     ]
    }
   ],
   "source": [
    "skewness = sc.stats.skew(samples)\n",
    "kurtosis = sc.stats.kurtosis(samples)\n",
    "\n",
    "print(f\"\"\"Skewness: {skewness}\n",
    "Kurtosis: {kurtosis}\"\"\") "
   ]
  },
  {
   "cell_type": "markdown",
   "metadata": {
    "id": "a5UNc8PUKnbU"
   },
   "source": [
    "## NumPy Correlation Calculation"
   ]
  },
  {
   "cell_type": "markdown",
   "metadata": {
    "id": "cLiqxE1CMNTg"
   },
   "source": [
    "Create an array x of integers between 10 (inclusive) and 20 (exclusive). Use `np.arange()`"
   ]
  },
  {
   "cell_type": "code",
   "execution_count": 11,
   "metadata": {
    "colab": {
     "base_uri": "https://localhost:8080/"
    },
    "id": "5LAaQ6w5L-2L",
    "outputId": "d20d39d4-1ee0-40b7-bff4-0ddc7a6c9985"
   },
   "outputs": [
    {
     "data": {
      "text/plain": [
       "array([10, 11, 12, 13, 14, 15, 16, 17, 18, 19])"
      ]
     },
     "execution_count": 11,
     "metadata": {},
     "output_type": "execute_result"
    }
   ],
   "source": [
    "x = np.arange(10,20,1)\n",
    "x"
   ]
  },
  {
   "cell_type": "markdown",
   "metadata": {
    "id": "qyCIaukNMZPf"
   },
   "source": [
    "Then use `np.array()` to create a second array y containing 10 arbitrary integers."
   ]
  },
  {
   "cell_type": "code",
   "execution_count": 12,
   "metadata": {
    "colab": {
     "base_uri": "https://localhost:8080/"
    },
    "id": "p27eW__gNMdh",
    "outputId": "0499d711-7618-4a94-f123-f5a2573fedfe"
   },
   "outputs": [
    {
     "data": {
      "text/plain": [
       "array([266, 277, 564, 701, 753, 836, 859, 947, 963, 978])"
      ]
     },
     "execution_count": 12,
     "metadata": {},
     "output_type": "execute_result"
    }
   ],
   "source": [
    "y = np.array(sorted(np.random.randint(0,1000,10)))\n",
    "y"
   ]
  },
  {
   "cell_type": "markdown",
   "metadata": {
    "id": "Kh_VeKwINSqS"
   },
   "source": [
    "Once you have two arrays of the same length, you can compute the **correlation coefficient** between x and y"
   ]
  },
  {
   "cell_type": "code",
   "execution_count": 13,
   "metadata": {
    "colab": {
     "base_uri": "https://localhost:8080/"
    },
    "id": "yrtC6rPkNSDC",
    "outputId": "34130d86-bea7-4e64-a4e0-8de79eedb121"
   },
   "outputs": [
    {
     "data": {
      "text/plain": [
       "array([[1.       , 0.9431162],\n",
       "       [0.9431162, 1.       ]])"
      ]
     },
     "execution_count": 13,
     "metadata": {},
     "output_type": "execute_result"
    }
   ],
   "source": [
    "r = np.corrcoef(x,y)\n",
    "r"
   ]
  },
  {
   "cell_type": "code",
   "execution_count": 14,
   "metadata": {
    "colab": {
     "base_uri": "https://localhost:8080/"
    },
    "id": "dA_IyffHlOUE",
    "outputId": "f4de56dd-5f4d-48f0-d77d-809403c2e012"
   },
   "outputs": [
    {
     "name": "stdout",
     "output_type": "stream",
     "text": [
      "Correlation Coeff: 0.9431161968498156\n"
     ]
    }
   ],
   "source": [
    "print(f\"Correlation Coeff: {r[0][1]}\")"
   ]
  },
  {
   "cell_type": "markdown",
   "metadata": {
    "id": "vXieLjYiNtPi"
   },
   "source": [
    "## Pandas Correlation Calculation"
   ]
  },
  {
   "cell_type": "markdown",
   "metadata": {
    "id": "z56t0k0qNvkr"
   },
   "source": [
    "Run the code below"
   ]
  },
  {
   "cell_type": "code",
   "execution_count": 15,
   "metadata": {
    "id": "9AVBMJCyNuwb"
   },
   "outputs": [],
   "source": [
    "x = pd.Series(range(10, 20))\n",
    "y = pd.Series([2, 1, 4, 5, 8, 12, 18, 25, 96, 48])"
   ]
  },
  {
   "cell_type": "markdown",
   "metadata": {
    "id": "ZajVXYe2OCih"
   },
   "source": [
    "Call the relevant method  to calculate Pearson's r correlation."
   ]
  },
  {
   "cell_type": "code",
   "execution_count": 16,
   "metadata": {
    "colab": {
     "base_uri": "https://localhost:8080/"
    },
    "id": "Ak_rkzbLOafj",
    "outputId": "63821d8b-539d-4d5c-da2a-44584e868f7b"
   },
   "outputs": [
    {
     "name": "stdout",
     "output_type": "stream",
     "text": [
      "Pearson Correlation Coeff: 0.7586402890911867\n",
      "Pearson Correlation Coeff: 0.7586402890911869\n"
     ]
    }
   ],
   "source": [
    "print(f\"Pearson Correlation Coeff: {np.corrcoef(x,y)[0][1]}\")\n",
    "\n",
    "# Alternative\n",
    "print(f\"Pearson Correlation Coeff: {sc.stats.pearsonr(x,y)[0]}\")"
   ]
  },
  {
   "cell_type": "markdown",
   "metadata": {
    "id": "1CygSbnROb9V"
   },
   "source": [
    "OPTIONAL. Call the relevant method to calculate Spearman's rho correlation."
   ]
  },
  {
   "cell_type": "code",
   "execution_count": 17,
   "metadata": {
    "colab": {
     "base_uri": "https://localhost:8080/"
    },
    "id": "xp_QkXwmOlYY",
    "outputId": "501bd307-0a88-4917-ee95-49216f13c6fe"
   },
   "outputs": [
    {
     "data": {
      "text/plain": [
       "SpearmanrResult(correlation=0.9757575757575757, pvalue=1.4675461874042197e-06)"
      ]
     },
     "execution_count": 17,
     "metadata": {},
     "output_type": "execute_result"
    }
   ],
   "source": [
    "rho = sc.stats.spearmanr(x,y)\n",
    "rho "
   ]
  },
  {
   "cell_type": "code",
   "execution_count": 18,
   "metadata": {
    "colab": {
     "base_uri": "https://localhost:8080/"
    },
    "id": "8tW2TGX1nxEh",
    "outputId": "7df2dacb-65e9-4542-9e0c-d9f114674c62"
   },
   "outputs": [
    {
     "name": "stdout",
     "output_type": "stream",
     "text": [
      "Spearman's rho correlation Coeff: 0.9757575757575757\n"
     ]
    }
   ],
   "source": [
    "print(f\"Spearman's rho correlation Coeff: {rho[0]}\")"
   ]
  },
  {
   "cell_type": "markdown",
   "metadata": {
    "id": "we7pg7kdOo7y"
   },
   "source": [
    "## Seaborn Dataset Tips"
   ]
  },
  {
   "cell_type": "markdown",
   "metadata": {
    "id": "VlzgFKN7OvqX"
   },
   "source": [
    "Import Seaborn Library"
   ]
  },
  {
   "cell_type": "code",
   "execution_count": 19,
   "metadata": {
    "id": "t-49JRRqO4pw"
   },
   "outputs": [],
   "source": [
    "import seaborn as sns"
   ]
  },
  {
   "cell_type": "markdown",
   "metadata": {
    "id": "0INVBB4tO4y4"
   },
   "source": [
    "Load \"tips\" dataset from Seaborn"
   ]
  },
  {
   "cell_type": "code",
   "execution_count": 20,
   "metadata": {
    "id": "kieLvcM1PBv7"
   },
   "outputs": [],
   "source": [
    "tips = sns.load_dataset(\"tips\")"
   ]
  },
  {
   "cell_type": "markdown",
   "metadata": {
    "id": "o2ISqVQrPh5S"
   },
   "source": [
    "Generate descriptive statistics include those that summarize the central tendency, dispersion"
   ]
  },
  {
   "cell_type": "code",
   "execution_count": 21,
   "metadata": {
    "colab": {
     "base_uri": "https://localhost:8080/",
     "height": 194
    },
    "id": "J-xLUMJDvUYe",
    "outputId": "f394badf-7cc3-41ca-d05d-029366d5b0a4"
   },
   "outputs": [
    {
     "data": {
      "text/html": [
       "<div>\n",
       "<style scoped>\n",
       "    .dataframe tbody tr th:only-of-type {\n",
       "        vertical-align: middle;\n",
       "    }\n",
       "\n",
       "    .dataframe tbody tr th {\n",
       "        vertical-align: top;\n",
       "    }\n",
       "\n",
       "    .dataframe thead th {\n",
       "        text-align: right;\n",
       "    }\n",
       "</style>\n",
       "<table border=\"1\" class=\"dataframe\">\n",
       "  <thead>\n",
       "    <tr style=\"text-align: right;\">\n",
       "      <th></th>\n",
       "      <th>total_bill</th>\n",
       "      <th>tip</th>\n",
       "      <th>sex</th>\n",
       "      <th>smoker</th>\n",
       "      <th>day</th>\n",
       "      <th>time</th>\n",
       "      <th>size</th>\n",
       "    </tr>\n",
       "  </thead>\n",
       "  <tbody>\n",
       "    <tr>\n",
       "      <th>0</th>\n",
       "      <td>16.99</td>\n",
       "      <td>1.01</td>\n",
       "      <td>Female</td>\n",
       "      <td>No</td>\n",
       "      <td>Sun</td>\n",
       "      <td>Dinner</td>\n",
       "      <td>2</td>\n",
       "    </tr>\n",
       "    <tr>\n",
       "      <th>1</th>\n",
       "      <td>10.34</td>\n",
       "      <td>1.66</td>\n",
       "      <td>Male</td>\n",
       "      <td>No</td>\n",
       "      <td>Sun</td>\n",
       "      <td>Dinner</td>\n",
       "      <td>3</td>\n",
       "    </tr>\n",
       "    <tr>\n",
       "      <th>2</th>\n",
       "      <td>21.01</td>\n",
       "      <td>3.50</td>\n",
       "      <td>Male</td>\n",
       "      <td>No</td>\n",
       "      <td>Sun</td>\n",
       "      <td>Dinner</td>\n",
       "      <td>3</td>\n",
       "    </tr>\n",
       "    <tr>\n",
       "      <th>3</th>\n",
       "      <td>23.68</td>\n",
       "      <td>3.31</td>\n",
       "      <td>Male</td>\n",
       "      <td>No</td>\n",
       "      <td>Sun</td>\n",
       "      <td>Dinner</td>\n",
       "      <td>2</td>\n",
       "    </tr>\n",
       "    <tr>\n",
       "      <th>4</th>\n",
       "      <td>24.59</td>\n",
       "      <td>3.61</td>\n",
       "      <td>Female</td>\n",
       "      <td>No</td>\n",
       "      <td>Sun</td>\n",
       "      <td>Dinner</td>\n",
       "      <td>4</td>\n",
       "    </tr>\n",
       "  </tbody>\n",
       "</table>\n",
       "</div>"
      ],
      "text/plain": [
       "   total_bill   tip     sex smoker  day    time  size\n",
       "0       16.99  1.01  Female     No  Sun  Dinner     2\n",
       "1       10.34  1.66    Male     No  Sun  Dinner     3\n",
       "2       21.01  3.50    Male     No  Sun  Dinner     3\n",
       "3       23.68  3.31    Male     No  Sun  Dinner     2\n",
       "4       24.59  3.61  Female     No  Sun  Dinner     4"
      ]
     },
     "execution_count": 21,
     "metadata": {},
     "output_type": "execute_result"
    }
   ],
   "source": [
    "tips.head()"
   ]
  },
  {
   "cell_type": "code",
   "execution_count": 22,
   "metadata": {
    "colab": {
     "base_uri": "https://localhost:8080/",
     "height": 135
    },
    "id": "FyFvmdbJPVg6",
    "outputId": "91f457fa-d197-4d97-982a-780265704c97"
   },
   "outputs": [
    {
     "data": {
      "text/html": [
       "<div>\n",
       "<style scoped>\n",
       "    .dataframe tbody tr th:only-of-type {\n",
       "        vertical-align: middle;\n",
       "    }\n",
       "\n",
       "    .dataframe tbody tr th {\n",
       "        vertical-align: top;\n",
       "    }\n",
       "\n",
       "    .dataframe thead th {\n",
       "        text-align: right;\n",
       "    }\n",
       "</style>\n",
       "<table border=\"1\" class=\"dataframe\">\n",
       "  <thead>\n",
       "    <tr style=\"text-align: right;\">\n",
       "      <th></th>\n",
       "      <th>count</th>\n",
       "      <th>mean</th>\n",
       "      <th>std</th>\n",
       "      <th>min</th>\n",
       "      <th>25%</th>\n",
       "      <th>50%</th>\n",
       "      <th>75%</th>\n",
       "      <th>max</th>\n",
       "    </tr>\n",
       "  </thead>\n",
       "  <tbody>\n",
       "    <tr>\n",
       "      <th>total_bill</th>\n",
       "      <td>244.0</td>\n",
       "      <td>19.785943</td>\n",
       "      <td>8.902412</td>\n",
       "      <td>3.07</td>\n",
       "      <td>13.3475</td>\n",
       "      <td>17.795</td>\n",
       "      <td>24.1275</td>\n",
       "      <td>50.81</td>\n",
       "    </tr>\n",
       "    <tr>\n",
       "      <th>tip</th>\n",
       "      <td>244.0</td>\n",
       "      <td>2.998279</td>\n",
       "      <td>1.383638</td>\n",
       "      <td>1.00</td>\n",
       "      <td>2.0000</td>\n",
       "      <td>2.900</td>\n",
       "      <td>3.5625</td>\n",
       "      <td>10.00</td>\n",
       "    </tr>\n",
       "    <tr>\n",
       "      <th>size</th>\n",
       "      <td>244.0</td>\n",
       "      <td>2.569672</td>\n",
       "      <td>0.951100</td>\n",
       "      <td>1.00</td>\n",
       "      <td>2.0000</td>\n",
       "      <td>2.000</td>\n",
       "      <td>3.0000</td>\n",
       "      <td>6.00</td>\n",
       "    </tr>\n",
       "  </tbody>\n",
       "</table>\n",
       "</div>"
      ],
      "text/plain": [
       "            count       mean       std   min      25%     50%      75%    max\n",
       "total_bill  244.0  19.785943  8.902412  3.07  13.3475  17.795  24.1275  50.81\n",
       "tip         244.0   2.998279  1.383638  1.00   2.0000   2.900   3.5625  10.00\n",
       "size        244.0   2.569672  0.951100  1.00   2.0000   2.000   3.0000   6.00"
      ]
     },
     "execution_count": 22,
     "metadata": {},
     "output_type": "execute_result"
    }
   ],
   "source": [
    "tips.describe().T"
   ]
  },
  {
   "cell_type": "code",
   "execution_count": 23,
   "metadata": {
    "id": "_MgDeUwuxXah"
   },
   "outputs": [],
   "source": [
    "def desc_statistics(df):\n",
    "  numeric_cols = df.select_dtypes(include=['float64','int64']).columns.tolist()\n",
    "  categorical_cols = df.select_dtypes(include=['category']).columns.tolist()\n",
    "\n",
    "  for i in numeric_cols:\n",
    "    mean = np.mean(df[i])\n",
    "    median = np.median(df[i])\n",
    "    mode = sc.stats.mode(df[i])[0][0]\n",
    "\n",
    "    min = np.min(df[i])\n",
    "    max = np.max(df[i])\n",
    "    q1 = np.percentile(df[i],25)\n",
    "    q3 = np.percentile(df[i],75)\n",
    "    iqr = q3 - q1\n",
    "    range = max-min\n",
    "\n",
    "    variance = np.var(df[i])\n",
    "    std_dev = np.std(df[i])\n",
    "\n",
    "    skewness = sc.stats.skew(df[i])\n",
    "    kurtosis = sc.stats.kurtosis(df[i])\n",
    "\n",
    "    print(f\"\"\"\\nDesriptive Statistics for \"{i}\" column:\\n_____________________________\"\"\")\n",
    "    print(f\"\"\"mean\\t: {mean}\n",
    "median\\t: {median}\n",
    "mode\\t: {mode}\n",
    "min\\t: {min}\n",
    "max\\t: {max}\n",
    "Q1\\t: {q1}\n",
    "Q3\\t: {q3}\n",
    "IQR\\t: {iqr}\n",
    "Range\\t: {range}\n",
    "Variance: {variance}\n",
    "S.Dev\\t: {std_dev}\n",
    "Skewness: {skewness}\n",
    "Kurtosis: {kurtosis}\"\"\") \n",
    "    \n",
    "\n",
    "  for i in categorical_cols:\n",
    "    mode = sc.stats.mode(df[i])[0][0]\n",
    "    print(f\"\"\"\\nDesriptive Statistics for \"{i}\" column:\\n_____________________________\"\"\")\n",
    "    print(f\"\"\"mode\\t: {mode}\"\"\") \n",
    "    print(f'Unique Values of \"{i}\": {sorted(df[i].unique())}')\n",
    "    print(f\"\"\"\\nValue Count of \"{i}\":\\n_____________________________\"\"\")\n",
    "    print(f'{df[i].value_counts()}')\n",
    "    \n"
   ]
  },
  {
   "cell_type": "code",
   "execution_count": 24,
   "metadata": {
    "colab": {
     "base_uri": "https://localhost:8080/"
    },
    "id": "y8uJw2qFxXg0",
    "outputId": "9e8df96a-4d81-47c6-9c97-0c2c610c3995"
   },
   "outputs": [
    {
     "name": "stdout",
     "output_type": "stream",
     "text": [
      "\n",
      "Desriptive Statistics for \"total_bill\" column:\n",
      "_____________________________\n",
      "mean\t: 19.78594262295082\n",
      "median\t: 17.795\n",
      "mode\t: 13.42\n",
      "min\t: 3.07\n",
      "max\t: 50.81\n",
      "Q1\t: 13.3475\n",
      "Q3\t: 24.127499999999998\n",
      "IQR\t: 10.779999999999998\n",
      "Range\t: 47.74\n",
      "Variance: 78.92813148851114\n",
      "S.Dev\t: 8.884150577771132\n",
      "Skewness: 1.1262346334818638\n",
      "Kurtosis: 1.1691681323851366\n",
      "\n",
      "Desriptive Statistics for \"tip\" column:\n",
      "_____________________________\n",
      "mean\t: 2.99827868852459\n",
      "median\t: 2.9\n",
      "mode\t: 2.0\n",
      "min\t: 1.0\n",
      "max\t: 10.0\n",
      "Q1\t: 2.0\n",
      "Q3\t: 3.5624999999999996\n",
      "IQR\t: 1.5624999999999996\n",
      "Range\t: 9.0\n",
      "Variance: 1.9066085124966412\n",
      "S.Dev\t: 1.3807999538298954\n",
      "Skewness: 1.4564266884221506\n",
      "Kurtosis: 3.5495519893455114\n",
      "\n",
      "Desriptive Statistics for \"size\" column:\n",
      "_____________________________\n",
      "mean\t: 2.569672131147541\n",
      "median\t: 2.0\n",
      "mode\t: 2\n",
      "min\t: 1\n",
      "max\t: 6\n",
      "Q1\t: 2.0\n",
      "Q3\t: 3.0\n",
      "IQR\t: 1.0\n",
      "Range\t: 5\n",
      "Variance: 0.9008834990593925\n",
      "S.Dev\t: 0.9491488287193913\n",
      "Skewness: 1.4389653841920984\n",
      "Kurtosis: 1.6719276263625504\n",
      "\n",
      "Desriptive Statistics for \"sex\" column:\n",
      "_____________________________\n",
      "mode\t: Male\n",
      "Unique Values of \"sex\": ['Female', 'Male']\n",
      "\n",
      "Value Count of \"sex\":\n",
      "_____________________________\n",
      "Male      157\n",
      "Female     87\n",
      "Name: sex, dtype: int64\n",
      "\n",
      "Desriptive Statistics for \"smoker\" column:\n",
      "_____________________________\n",
      "mode\t: No\n",
      "Unique Values of \"smoker\": ['No', 'Yes']\n",
      "\n",
      "Value Count of \"smoker\":\n",
      "_____________________________\n",
      "No     151\n",
      "Yes     93\n",
      "Name: smoker, dtype: int64\n",
      "\n",
      "Desriptive Statistics for \"day\" column:\n",
      "_____________________________\n",
      "mode\t: Sat\n",
      "Unique Values of \"day\": ['Fri', 'Sat', 'Sun', 'Thur']\n",
      "\n",
      "Value Count of \"day\":\n",
      "_____________________________\n",
      "Sat     87\n",
      "Sun     76\n",
      "Thur    62\n",
      "Fri     19\n",
      "Name: day, dtype: int64\n",
      "\n",
      "Desriptive Statistics for \"time\" column:\n",
      "_____________________________\n",
      "mode\t: Dinner\n",
      "Unique Values of \"time\": ['Dinner', 'Lunch']\n",
      "\n",
      "Value Count of \"time\":\n",
      "_____________________________\n",
      "Dinner    176\n",
      "Lunch      68\n",
      "Name: time, dtype: int64\n"
     ]
    }
   ],
   "source": [
    "desc_statistics(tips)"
   ]
  },
  {
   "cell_type": "code",
   "execution_count": 28,
   "metadata": {
    "colab": {
     "base_uri": "https://localhost:8080/",
     "height": 448
    },
    "id": "wUuofeF96DI8",
    "outputId": "69237c70-b9d9-47c8-fc62-6f88810825b1"
   },
   "outputs": [
    {
     "name": "stdout",
     "output_type": "stream",
     "text": [
      "Data shape: (244, 7)\n",
      "___________________________\n",
      "Data Types:\n",
      "float64     2\n",
      "int64       1\n",
      "category    1\n",
      "category    1\n",
      "category    1\n",
      "category    1\n",
      "Name: Types, dtype: int64\n",
      "___________________________\n"
     ]
    },
    {
     "data": {
      "text/html": [
       "<div>\n",
       "<style scoped>\n",
       "    .dataframe tbody tr th:only-of-type {\n",
       "        vertical-align: middle;\n",
       "    }\n",
       "\n",
       "    .dataframe tbody tr th {\n",
       "        vertical-align: top;\n",
       "    }\n",
       "\n",
       "    .dataframe thead th {\n",
       "        text-align: right;\n",
       "    }\n",
       "</style>\n",
       "<table border=\"1\" class=\"dataframe\">\n",
       "  <thead>\n",
       "    <tr style=\"text-align: right;\">\n",
       "      <th></th>\n",
       "      <th>day</th>\n",
       "      <th>sex</th>\n",
       "      <th>size</th>\n",
       "      <th>smoker</th>\n",
       "      <th>time</th>\n",
       "      <th>tip</th>\n",
       "      <th>total_bill</th>\n",
       "    </tr>\n",
       "  </thead>\n",
       "  <tbody>\n",
       "    <tr>\n",
       "      <th>Types</th>\n",
       "      <td>category</td>\n",
       "      <td>category</td>\n",
       "      <td>int64</td>\n",
       "      <td>category</td>\n",
       "      <td>category</td>\n",
       "      <td>float64</td>\n",
       "      <td>float64</td>\n",
       "    </tr>\n",
       "    <tr>\n",
       "      <th>Counts</th>\n",
       "      <td>244</td>\n",
       "      <td>244</td>\n",
       "      <td>244</td>\n",
       "      <td>244</td>\n",
       "      <td>244</td>\n",
       "      <td>244</td>\n",
       "      <td>244</td>\n",
       "    </tr>\n",
       "    <tr>\n",
       "      <th>Uniques</th>\n",
       "      <td>4</td>\n",
       "      <td>2</td>\n",
       "      <td>6</td>\n",
       "      <td>2</td>\n",
       "      <td>2</td>\n",
       "      <td>123</td>\n",
       "      <td>229</td>\n",
       "    </tr>\n",
       "    <tr>\n",
       "      <th>Nulls</th>\n",
       "      <td>0</td>\n",
       "      <td>0</td>\n",
       "      <td>0</td>\n",
       "      <td>0</td>\n",
       "      <td>0</td>\n",
       "      <td>0</td>\n",
       "      <td>0</td>\n",
       "    </tr>\n",
       "    <tr>\n",
       "      <th>Min</th>\n",
       "      <td>NaN</td>\n",
       "      <td>NaN</td>\n",
       "      <td>1.0</td>\n",
       "      <td>NaN</td>\n",
       "      <td>NaN</td>\n",
       "      <td>1.0</td>\n",
       "      <td>3.07</td>\n",
       "    </tr>\n",
       "    <tr>\n",
       "      <th>Max</th>\n",
       "      <td>NaN</td>\n",
       "      <td>NaN</td>\n",
       "      <td>6.0</td>\n",
       "      <td>NaN</td>\n",
       "      <td>NaN</td>\n",
       "      <td>10.0</td>\n",
       "      <td>50.81</td>\n",
       "    </tr>\n",
       "    <tr>\n",
       "      <th>Range</th>\n",
       "      <td>NaN</td>\n",
       "      <td>NaN</td>\n",
       "      <td>5.0</td>\n",
       "      <td>NaN</td>\n",
       "      <td>NaN</td>\n",
       "      <td>9.0</td>\n",
       "      <td>47.74</td>\n",
       "    </tr>\n",
       "    <tr>\n",
       "      <th>Mean</th>\n",
       "      <td>NaN</td>\n",
       "      <td>NaN</td>\n",
       "      <td>2.569672</td>\n",
       "      <td>NaN</td>\n",
       "      <td>NaN</td>\n",
       "      <td>2.998279</td>\n",
       "      <td>19.785943</td>\n",
       "    </tr>\n",
       "    <tr>\n",
       "      <th>Mode</th>\n",
       "      <td>[Sat]</td>\n",
       "      <td>[Male]</td>\n",
       "      <td>[2]</td>\n",
       "      <td>[No]</td>\n",
       "      <td>[Dinner]</td>\n",
       "      <td>[2.0]</td>\n",
       "      <td>[13.42]</td>\n",
       "    </tr>\n",
       "    <tr>\n",
       "      <th>Q1</th>\n",
       "      <td>NaN</td>\n",
       "      <td>NaN</td>\n",
       "      <td>2.0</td>\n",
       "      <td>NaN</td>\n",
       "      <td>NaN</td>\n",
       "      <td>2.0</td>\n",
       "      <td>13.3475</td>\n",
       "    </tr>\n",
       "    <tr>\n",
       "      <th>Median</th>\n",
       "      <td>NaN</td>\n",
       "      <td>NaN</td>\n",
       "      <td>2.0</td>\n",
       "      <td>NaN</td>\n",
       "      <td>NaN</td>\n",
       "      <td>2.9</td>\n",
       "      <td>17.795</td>\n",
       "    </tr>\n",
       "    <tr>\n",
       "      <th>Q3</th>\n",
       "      <td>NaN</td>\n",
       "      <td>NaN</td>\n",
       "      <td>3.0</td>\n",
       "      <td>NaN</td>\n",
       "      <td>NaN</td>\n",
       "      <td>3.5625</td>\n",
       "      <td>24.1275</td>\n",
       "    </tr>\n",
       "    <tr>\n",
       "      <th>IQR</th>\n",
       "      <td>NaN</td>\n",
       "      <td>NaN</td>\n",
       "      <td>1.0</td>\n",
       "      <td>NaN</td>\n",
       "      <td>NaN</td>\n",
       "      <td>1.5625</td>\n",
       "      <td>10.78</td>\n",
       "    </tr>\n",
       "    <tr>\n",
       "      <th>Variance</th>\n",
       "      <td>NaN</td>\n",
       "      <td>NaN</td>\n",
       "      <td>0.904591</td>\n",
       "      <td>NaN</td>\n",
       "      <td>NaN</td>\n",
       "      <td>1.914455</td>\n",
       "      <td>79.252939</td>\n",
       "    </tr>\n",
       "    <tr>\n",
       "      <th>Std</th>\n",
       "      <td>NaN</td>\n",
       "      <td>NaN</td>\n",
       "      <td>0.9511</td>\n",
       "      <td>NaN</td>\n",
       "      <td>NaN</td>\n",
       "      <td>1.383638</td>\n",
       "      <td>8.902412</td>\n",
       "    </tr>\n",
       "    <tr>\n",
       "      <th>Kurtosis</th>\n",
       "      <td>NaN</td>\n",
       "      <td>NaN</td>\n",
       "      <td>1.7317</td>\n",
       "      <td>NaN</td>\n",
       "      <td>NaN</td>\n",
       "      <td>3.648376</td>\n",
       "      <td>1.218484</td>\n",
       "    </tr>\n",
       "    <tr>\n",
       "      <th>Skewness</th>\n",
       "      <td>NaN</td>\n",
       "      <td>NaN</td>\n",
       "      <td>1.447882</td>\n",
       "      <td>NaN</td>\n",
       "      <td>NaN</td>\n",
       "      <td>1.465451</td>\n",
       "      <td>1.133213</td>\n",
       "    </tr>\n",
       "  </tbody>\n",
       "</table>\n",
       "</div>"
      ],
      "text/plain": [
       "               day       sex      size    smoker      time       tip  \\\n",
       "Types     category  category     int64  category  category   float64   \n",
       "Counts         244       244       244       244       244       244   \n",
       "Uniques          4         2         6         2         2       123   \n",
       "Nulls            0         0         0         0         0         0   \n",
       "Min            NaN       NaN       1.0       NaN       NaN       1.0   \n",
       "Max            NaN       NaN       6.0       NaN       NaN      10.0   \n",
       "Range          NaN       NaN       5.0       NaN       NaN       9.0   \n",
       "Mean           NaN       NaN  2.569672       NaN       NaN  2.998279   \n",
       "Mode         [Sat]    [Male]       [2]      [No]  [Dinner]     [2.0]   \n",
       "Q1             NaN       NaN       2.0       NaN       NaN       2.0   \n",
       "Median         NaN       NaN       2.0       NaN       NaN       2.9   \n",
       "Q3             NaN       NaN       3.0       NaN       NaN    3.5625   \n",
       "IQR            NaN       NaN       1.0       NaN       NaN    1.5625   \n",
       "Variance       NaN       NaN  0.904591       NaN       NaN  1.914455   \n",
       "Std            NaN       NaN    0.9511       NaN       NaN  1.383638   \n",
       "Kurtosis       NaN       NaN    1.7317       NaN       NaN  3.648376   \n",
       "Skewness       NaN       NaN  1.447882       NaN       NaN  1.465451   \n",
       "\n",
       "         total_bill  \n",
       "Types       float64  \n",
       "Counts          244  \n",
       "Uniques         229  \n",
       "Nulls             0  \n",
       "Min            3.07  \n",
       "Max           50.81  \n",
       "Range         47.74  \n",
       "Mean      19.785943  \n",
       "Mode        [13.42]  \n",
       "Q1          13.3475  \n",
       "Median       17.795  \n",
       "Q3          24.1275  \n",
       "IQR           10.78  \n",
       "Variance  79.252939  \n",
       "Std        8.902412  \n",
       "Kurtosis   1.218484  \n",
       "Skewness   1.133213  "
      ]
     },
     "metadata": {},
     "output_type": "display_data"
    }
   ],
   "source": [
    "def summary(df, pred=None):\n",
    "    obs = df.shape[0]\n",
    "    Types = df.dtypes\n",
    "    Counts = df.apply(lambda x: x.count())\n",
    "    Min = df.min()\n",
    "    Max = df.max()\n",
    "    Range = Max - Min\n",
    "    Mean= df.mean()\n",
    "    Median = df.quantile(0.5)\n",
    "    Mode = df.apply(lambda x: sc.stats.mode(x)).T[0]\n",
    "    Q1 = df.quantile(0.25)\n",
    "    Q3 = df.quantile(0.75)\n",
    "    IQR = Q3 - Q1\n",
    "    Variance = df.var()\n",
    "    Std= df.std()\n",
    "    Kurtosis = df.kurtosis()\n",
    "    Skewness = df.skew()\n",
    "    Uniques = df.apply(lambda x: x.unique().shape[0])\n",
    "    Nulls = df.apply(lambda x: x.isnull().sum())\n",
    "    print('Data shape:', df.shape)\n",
    "\n",
    "    if pred is None:\n",
    "        cols = ['Types', 'Counts', 'Uniques', 'Nulls', 'Min', 'Max','Range','Mean','Mode','Q1','Median','Q3','IQR','Variance','Std','Kurtosis','Skewness']\n",
    "        str = pd.concat([Types, Counts, Uniques, Nulls, Min, Max, Range, Mean, Mode, Q1, Median, Q3, IQR, Variance, Std, Kurtosis, Skewness,\n",
    "                        ], axis = 1, sort=True)\n",
    "\n",
    "    str.columns = cols\n",
    "    print('___________________________\\nData Types:')\n",
    "    print(str.Types.value_counts())\n",
    "    print('___________________________')\n",
    "    return str\n",
    "\n",
    "display(summary(tips).sort_values(by='Nulls', ascending=False).T)"
   ]
  },
  {
   "cell_type": "markdown",
   "metadata": {
    "id": "3yCRK4VJPzRo"
   },
   "source": [
    "Call the relevant method to calculate pairwise Pearson's r correlation of columns"
   ]
  },
  {
   "cell_type": "code",
   "execution_count": 26,
   "metadata": {
    "colab": {
     "base_uri": "https://localhost:8080/",
     "height": 135
    },
    "id": "x5HWVeJGQ27N",
    "outputId": "465b0a35-1262-4f5e-f260-f58dd892eb74"
   },
   "outputs": [
    {
     "data": {
      "text/html": [
       "<div>\n",
       "<style scoped>\n",
       "    .dataframe tbody tr th:only-of-type {\n",
       "        vertical-align: middle;\n",
       "    }\n",
       "\n",
       "    .dataframe tbody tr th {\n",
       "        vertical-align: top;\n",
       "    }\n",
       "\n",
       "    .dataframe thead th {\n",
       "        text-align: right;\n",
       "    }\n",
       "</style>\n",
       "<table border=\"1\" class=\"dataframe\">\n",
       "  <thead>\n",
       "    <tr style=\"text-align: right;\">\n",
       "      <th></th>\n",
       "      <th>total_bill</th>\n",
       "      <th>tip</th>\n",
       "      <th>size</th>\n",
       "    </tr>\n",
       "  </thead>\n",
       "  <tbody>\n",
       "    <tr>\n",
       "      <th>total_bill</th>\n",
       "      <td>1.000000</td>\n",
       "      <td>0.675734</td>\n",
       "      <td>0.598315</td>\n",
       "    </tr>\n",
       "    <tr>\n",
       "      <th>tip</th>\n",
       "      <td>0.675734</td>\n",
       "      <td>1.000000</td>\n",
       "      <td>0.489299</td>\n",
       "    </tr>\n",
       "    <tr>\n",
       "      <th>size</th>\n",
       "      <td>0.598315</td>\n",
       "      <td>0.489299</td>\n",
       "      <td>1.000000</td>\n",
       "    </tr>\n",
       "  </tbody>\n",
       "</table>\n",
       "</div>"
      ],
      "text/plain": [
       "            total_bill       tip      size\n",
       "total_bill    1.000000  0.675734  0.598315\n",
       "tip           0.675734  1.000000  0.489299\n",
       "size          0.598315  0.489299  1.000000"
      ]
     },
     "execution_count": 26,
     "metadata": {},
     "output_type": "execute_result"
    }
   ],
   "source": [
    "tips.corr(method='pearson') \n",
    "# method:['pearson','kendall','spearman'], pearson is default"
   ]
  },
  {
   "cell_type": "code",
   "execution_count": 27,
   "metadata": {
    "colab": {
     "base_uri": "https://localhost:8080/",
     "height": 270
    },
    "id": "DEeWrRjF6202",
    "outputId": "4af1d6b0-3860-4f68-e89c-fbacfc6b99c7"
   },
   "outputs": [
    {
     "data": {
      "image/png": "[encoded data removed]",
      "text/plain": [
       "<Figure size 432x288 with 2 Axes>"
      ]
     },
     "metadata": {
      "needs_background": "light"
     },
     "output_type": "display_data"
    }
   ],
   "source": [
    "sns.heatmap(tips.corr(), cmap='coolwarm',annot=True); "
   ]
  },
  {
   "cell_type": "code",
   "execution_count": null,
   "metadata": {
    "id": "F3oPzWSoSaKg"
   },
   "outputs": [],
   "source": []
  }
 ],
 "metadata": {
  "colab": {
   "collapsed_sections": [],
   "name": "Statistics Assignment-2.ipynb",
   "provenance": []
  },
  "kernelspec": {
   "display_name": "Python 3",
   "language": "python",
   "name": "python3"
  },
  "language_info": {
   "codemirror_mode": {
    "name": "ipython",
    "version": 3
   },
   "file_extension": ".py",
   "mimetype": "text/x-python",
   "name": "python",
   "nbconvert_exporter": "python",
   "pygments_lexer": "ipython3",
   "version": "3.8.5"
  }
 },
 "nbformat": 4,
 "nbformat_minor": 1
}

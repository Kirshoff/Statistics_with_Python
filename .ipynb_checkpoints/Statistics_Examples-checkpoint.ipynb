{
 "cells": [
  {
   "cell_type": "code",
   "execution_count": 1,
   "metadata": {},
   "outputs": [],
   "source": [
    "import random\n",
    "from math import sqrt\n",
    "import pandas as pd\n",
    "import matplotlib.pyplot as plt\n",
    "import numpy as np\n",
    "import scipy.stats as stats\n",
    "random.seed(101)"
   ]
  },
  {
   "cell_type": "markdown",
   "metadata": {},
   "source": [
    "#### Example-1\n",
    "Kutu içeceğin hacmi normal dağılım gösteriyor. Ortalama hacmi 330 ml ve standart sapması 30 dur.Rastgele seçilen 9 kutu içeceğin ortalama hacminin 305ml den az olma olasılığı nedir?"
   ]
  },
  {
   "cell_type": "code",
   "execution_count": 2,
   "metadata": {},
   "outputs": [],
   "source": [
    "mu=330\n",
    "sigma=30\n",
    "n=9\n",
    "# p(x<305) = ?"
   ]
  },
  {
   "attachments": {
    "1.png": {
     "image/png": "[encoded data removed]"
    }
   },
   "cell_type": "markdown",
   "metadata": {},
   "source": [
    "![1.png](attachment:1.png)"
   ]
  },
  {
   "cell_type": "code",
   "execution_count": 3,
   "metadata": {},
   "outputs": [
    {
     "data": {
      "text/plain": [
       "0.006209665325776132"
      ]
     },
     "execution_count": 3,
     "metadata": {},
     "output_type": "execute_result"
    }
   ],
   "source": [
    "z= (305-mu)/(sigma/sqrt(n))\n",
    "stats.norm.cdf(z) "
   ]
  },
  {
   "cell_type": "markdown",
   "metadata": {},
   "source": [
    "#### Example-2\n",
    "Normal dağılıma sahip populasyonda n=9 olan örneklem alınıyor. Populasyon ortalaması mu=50 ve standart sapması sigma=5 dir. Örneklem standart sapması s ise , örneklem ortalamasının [mu - 1.9 * s, mu - 0.9 * s] aralığında olma olasılığı kaçtır?"
   ]
  },
  {
   "cell_type": "code",
   "execution_count": 4,
   "metadata": {},
   "outputs": [
    {
     "data": {
      "text/plain": [
       "0.15534356553075765"
      ]
     },
     "execution_count": 4,
     "metadata": {},
     "output_type": "execute_result"
    }
   ],
   "source": [
    "mu=50\n",
    "sigma=5\n",
    "n=9\n",
    "# P(x1 < x < x2) = ?\n",
    "\n",
    "s= sigma / sqrt(n) # standart deviation of sample\n",
    "x1= mu - 1.9 * s # lower limit\n",
    "x2= mu - 0.9 * s # upper limit\n",
    "\n",
    "\n",
    "z1=(x1-mu)/s\n",
    "z2=(x2-mu)/s\n",
    "stats.norm.cdf(z2) - stats.norm.cdf(z1)"
   ]
  },
  {
   "cell_type": "markdown",
   "metadata": {},
   "source": [
    "#### Example-3 \n",
    "Bir gemiye yüklenen paketlerin ağırlığı [5, 50] kg arasında uniform dağılıyor. Gemiye bu paketlerden rastgele 100 adet yükleniyor. Toplam ağırlığın 3000 kg dan küçük olma olasılığı nedir?"
   ]
  },
  {
   "cell_type": "code",
   "execution_count": 5,
   "metadata": {},
   "outputs": [
    {
     "data": {
      "text/plain": [
       "0.9728540858165727"
      ]
     },
     "execution_count": 5,
     "metadata": {},
     "output_type": "execute_result"
    }
   ],
   "source": [
    "(a,b) = (5,50)\n",
    "mu= (a+b)/2 # population mean\n",
    "sigma= (b-a)*sqrt(1/12) # population standart deviation for uniform distribution\n",
    "n=100\n",
    "x= 3000/n # sample mean\n",
    "z=(x-mu) / (sigma/sqrt(n))\n",
    "stats.norm.cdf(z) # P(x < 3000)"
   ]
  },
  {
   "cell_type": "markdown",
   "metadata": {},
   "source": [
    "\n",
    "#### Example-4\n",
    "ödevlerimizdeki bir problemi ortalama 12 dk da çözüyoruz. Standart sapma ise 10dk. 36 problemden oluşan şu anki ödevimizin 9 saatten fazla sürme olasılığı nedir?\n"
   ]
  },
  {
   "cell_type": "code",
   "execution_count": 6,
   "metadata": {},
   "outputs": [],
   "source": [
    "mu= 12\n",
    "sigma= 10\n",
    "n=36\n",
    "x= 9*60/n # mean of sample\n",
    "# P( >x ) = ?"
   ]
  },
  {
   "cell_type": "code",
   "execution_count": 7,
   "metadata": {},
   "outputs": [
    {
     "data": {
      "text/plain": [
       "0.03593031911292577"
      ]
     },
     "execution_count": 7,
     "metadata": {},
     "output_type": "execute_result"
    }
   ],
   "source": [
    "z=(x-mu) / (sigma/sqrt(n))\n",
    "1 - stats.norm.cdf(z) # P( > x)"
   ]
  },
  {
   "cell_type": "markdown",
   "metadata": {},
   "source": [
    "#### Example-5\n",
    "Bir pastane günde ortalama 30 pasta satıyor. Standart sapma 8 pasta. Önümüzdeki 36 gün içinde 1000 pastadan fazla satma ihtimali nedir?"
   ]
  },
  {
   "cell_type": "code",
   "execution_count": 8,
   "metadata": {},
   "outputs": [],
   "source": [
    "mu= 30\n",
    "sigma= 8\n",
    "n=36\n",
    "x= 1000/n # mean of sample\n",
    "# P( >x ) = ?"
   ]
  },
  {
   "cell_type": "code",
   "execution_count": 9,
   "metadata": {},
   "outputs": [
    {
     "data": {
      "text/plain": [
       "0.9522096477271852"
      ]
     },
     "execution_count": 9,
     "metadata": {},
     "output_type": "execute_result"
    }
   ],
   "source": [
    "z=(x-mu) / (sigma/sqrt(n))\n",
    "1 - stats.norm.cdf(z) # P( > x)"
   ]
  },
  {
   "cell_type": "markdown",
   "metadata": {},
   "source": [
    "\n",
    "#### Example-6\n",
    "Bir teknisyen bir soda makinasının doğru miktarda soda verip vermediğini kontrol etmek için 100 örnek alıyor. Standart sapmanın 2.5ml olduğu düşünülürse;\n",
    "\n",
    "a- aldığı örnek ortalamasının gerçek ortalamanın ±0.5ml aralığında olması olasılığı nedir?"
   ]
  },
  {
   "cell_type": "code",
   "execution_count": 10,
   "metadata": {},
   "outputs": [],
   "source": [
    "sigma= 2.5\n",
    "n=100\n",
    "# P(mu-0.5 < x < mu+0.5) = ?"
   ]
  },
  {
   "cell_type": "code",
   "execution_count": 11,
   "metadata": {},
   "outputs": [
    {
     "data": {
      "text/plain": [
       "0.9544997361036416"
      ]
     },
     "execution_count": 11,
     "metadata": {},
     "output_type": "execute_result"
    }
   ],
   "source": [
    "s=sigma/sqrt(n)\n",
    "z1=-0.5/s\n",
    "z2=0.5/s\n",
    "stats.norm.cdf(z2) - stats.norm.cdf(z1)"
   ]
  },
  {
   "cell_type": "markdown",
   "metadata": {},
   "source": [
    "\n",
    "b- örnek ortalamasının gerçek ortalamanın ±0.4ml aralığında olmasını %95 ihtimal ile garantilemek isteseydi, kaç örnek alması gerekirdi?"
   ]
  },
  {
   "cell_type": "code",
   "execution_count": 12,
   "metadata": {},
   "outputs": [
    {
     "data": {
      "text/plain": [
       "150.0"
      ]
     },
     "execution_count": 12,
     "metadata": {},
     "output_type": "execute_result"
    }
   ],
   "source": [
    "sigma= 2.5\n",
    "# P(mu-0.4 < x < mu+0.4) = 0.95\n",
    "# n = ?\n",
    "z1= stats.norm.ppf((1-0.95)/2)\n",
    "# z1= -0.4/(sigma/sqrt(n))  -->  n= (-z1*sigma/0.4)**2\n",
    "n= (-z1*sigma/0.4)**2\n",
    "round(n)"
   ]
  },
  {
   "cell_type": "markdown",
   "metadata": {},
   "source": [
    "#### Example-7\n",
    "Bir popülasyonda ki erkeklerin ağırlıkları ortalaması 77.4kg standart sapması 4.5kg dır.\n",
    "\n",
    "a- Popülasyon normal dağılıma sahipse rastgele seçilen bir kişinin 78.5kg dan ağır olma ihtimali nedir?"
   ]
  },
  {
   "cell_type": "code",
   "execution_count": 13,
   "metadata": {},
   "outputs": [],
   "source": [
    "mu= 77.4\n",
    "sigma= 4.5\n",
    "n=1\n",
    "x= 78.5 # mean of sample\n",
    "# P( >78.5 ) = ?"
   ]
  },
  {
   "cell_type": "code",
   "execution_count": 14,
   "metadata": {},
   "outputs": [
    {
     "data": {
      "text/plain": [
       "0.40344331192590355"
      ]
     },
     "execution_count": 14,
     "metadata": {},
     "output_type": "execute_result"
    }
   ],
   "source": [
    "z=(x-mu) / (sigma/sqrt(n))\n",
    "1-stats.norm.cdf(z) # P( >78.5 )"
   ]
  },
  {
   "cell_type": "markdown",
   "metadata": {},
   "source": [
    "b- Rastgele seçilen 40 kişinin ortalama ağırlıklarının 78.5kg dan büyük olma ihtimali nedir?"
   ]
  },
  {
   "cell_type": "code",
   "execution_count": 15,
   "metadata": {},
   "outputs": [],
   "source": [
    "mu= 77.4\n",
    "sigma= 4.5\n",
    "n=40\n",
    "x= 78.5 # mean of sample\n",
    "# P( >78.5 ) = ?"
   ]
  },
  {
   "cell_type": "code",
   "execution_count": 16,
   "metadata": {},
   "outputs": [
    {
     "data": {
      "text/plain": [
       "0.061051992695253854"
      ]
     },
     "execution_count": 16,
     "metadata": {},
     "output_type": "execute_result"
    }
   ],
   "source": [
    "z=(x-mu) / (sigma/sqrt(n))\n",
    "1-stats.norm.cdf(z) # P( >78.5 )"
   ]
  },
  {
   "cell_type": "markdown",
   "metadata": {},
   "source": [
    "#### Example-8\n",
    "Telefonla satış için aranan insanların %3 üne ürün satılabilmektedir. Satış ekibi 2000 kişiyi ararsa 70den fazla kişiye satış yapılabilme ihtimali nedir?"
   ]
  },
  {
   "cell_type": "code",
   "execution_count": 17,
   "metadata": {},
   "outputs": [],
   "source": [
    "# it is a binom distribution\n",
    "p=0.03\n",
    "n=2000\n",
    "# if n*p > 5 and n*(1-p) > 5, it has normal distribution."
   ]
  },
  {
   "cell_type": "code",
   "execution_count": 18,
   "metadata": {},
   "outputs": [],
   "source": [
    "x=70\n",
    "# P( >x ) = ?"
   ]
  },
  {
   "cell_type": "code",
   "execution_count": 19,
   "metadata": {},
   "outputs": [
    {
     "data": {
      "text/plain": [
       "0.08691042320730924"
      ]
     },
     "execution_count": 19,
     "metadata": {},
     "output_type": "execute_result"
    }
   ],
   "source": [
    "1-stats.binom.cdf(70,n,p)"
   ]
  },
  {
   "cell_type": "markdown",
   "metadata": {},
   "source": [
    "\n",
    "#### Example-9\n",
    "Bir şişeleme tesisinde şişelerin %5i tam olarak dolmamaktadır.\n",
    "Bir kalite kontrol teknisyeni rastgele 200 şişeyi kontrol ediyor. Şişelerin %5 nundan fazlasının tam dolmadığını tespit etme olasılığı nedir?"
   ]
  },
  {
   "cell_type": "code",
   "execution_count": 20,
   "metadata": {},
   "outputs": [],
   "source": [
    "# it is binom distribution\n",
    "p=0.05\n",
    "n=200\n",
    "x=200*0.05\n",
    "# if n*p > 5 and n*(1-p) > 5, it has normal distribution.\n",
    "# P( >x ) = ?"
   ]
  },
  {
   "cell_type": "code",
   "execution_count": 21,
   "metadata": {},
   "outputs": [
    {
     "data": {
      "text/plain": [
       "0.41693281791879455"
      ]
     },
     "execution_count": 21,
     "metadata": {},
     "output_type": "execute_result"
    }
   ],
   "source": [
    "1-stats.binom.cdf(x,n,p)"
   ]
  },
  {
   "cell_type": "markdown",
   "metadata": {},
   "source": [
    "#### Example-10\n",
    "Bir hastanenin acil servisine 10 dakikalık bir zaman aralığında ortalama 3 hasta\n",
    "gelmektedir. Bu zaman aralığında,\n",
    "\n",
    "a) hasta gelmemesi olasılığı nedir?\n"
   ]
  },
  {
   "cell_type": "code",
   "execution_count": 22,
   "metadata": {},
   "outputs": [
    {
     "data": {
      "text/plain": [
       "0.04978706836786395"
      ]
     },
     "execution_count": 22,
     "metadata": {},
     "output_type": "execute_result"
    }
   ],
   "source": [
    "#Poisson Distribution\n",
    "lamda=3\n",
    "stats.poisson.cdf(0,lamda)"
   ]
  },
  {
   "cell_type": "markdown",
   "metadata": {},
   "source": [
    "b) bir hasta gelmesi olasılığı nedir?"
   ]
  },
  {
   "cell_type": "code",
   "execution_count": 23,
   "metadata": {},
   "outputs": [
    {
     "data": {
      "text/plain": [
       "0.14936120510359185"
      ]
     },
     "execution_count": 23,
     "metadata": {},
     "output_type": "execute_result"
    }
   ],
   "source": [
    "stats.poisson.pmf(1,lamda)"
   ]
  },
  {
   "cell_type": "markdown",
   "metadata": {},
   "source": [
    "c) en az 5 hasta gelmesi olasılığı nedir?"
   ]
  },
  {
   "cell_type": "code",
   "execution_count": 24,
   "metadata": {},
   "outputs": [
    {
     "data": {
      "text/plain": [
       "0.1847367554762278"
      ]
     },
     "execution_count": 24,
     "metadata": {},
     "output_type": "execute_result"
    }
   ],
   "source": [
    "1-stats.poisson.cdf(4.9,lamda)"
   ]
  },
  {
   "cell_type": "markdown",
   "metadata": {},
   "source": [
    "#### Example-11\n",
    "Belli bir ürünün kusurlu olması olasılığı 0.0001 dir. Üretilen 20000 adet ürün içinde\n",
    "kusurlu olanların sayısının 5 den çok olması olasılığı nedir? "
   ]
  },
  {
   "cell_type": "code",
   "execution_count": 25,
   "metadata": {},
   "outputs": [
    {
     "data": {
      "text/plain": [
       "0.8646782505172399"
      ]
     },
     "execution_count": 25,
     "metadata": {},
     "output_type": "execute_result"
    }
   ],
   "source": [
    "# it is a binom distribution\n",
    "p=0.0001\n",
    "n=20000\n",
    "x=5/20000\n",
    "1-stats.binom.cdf(x,n,p)"
   ]
  },
  {
   "cell_type": "code",
   "execution_count": 26,
   "metadata": {},
   "outputs": [
    {
     "data": {
      "text/plain": [
       "0.8646647167633873"
      ]
     },
     "execution_count": 26,
     "metadata": {},
     "output_type": "execute_result"
    }
   ],
   "source": [
    "# n → ∞, p → 0 olduğunda np → λ olur. Binom Dağılımındaki olasılıklar Poisson Dağılımındaki olasılıklara yakınsar.\n",
    "lamda=n*p\n",
    "1-stats.poisson.cdf(x,lamda)"
   ]
  },
  {
   "cell_type": "markdown",
   "metadata": {},
   "source": [
    "#### Example-12\n",
    "Hamileler ile ilgili bir araştırmada, bu grubun hemoglobin değerlerinin normal dağılım gösterdiği ve\n",
    "ortalamasının 12.5 gr/dl, standart sapmasının ise 1.0 gr/dl olduğu gözlenmiştir. Buna göre, hamile kadınların;\n",
    "\n",
    "a- Hemoglobin değerlerinin 11.5‐13.0 gr/dl\n",
    "arasında bulunma olasılığı yüzde kaçtır?"
   ]
  },
  {
   "cell_type": "code",
   "execution_count": 27,
   "metadata": {},
   "outputs": [],
   "source": [
    "mu= 12.5\n",
    "sigma= 1\n",
    "x1= 11.5\n",
    "x2= 13\n",
    "# P(x1 < x < x2) = ?"
   ]
  },
  {
   "cell_type": "code",
   "execution_count": 28,
   "metadata": {},
   "outputs": [
    {
     "data": {
      "text/plain": [
       "0.532807207342556"
      ]
     },
     "execution_count": 28,
     "metadata": {},
     "output_type": "execute_result"
    }
   ],
   "source": [
    "z1=(x1-mu)/sigma\n",
    "z2=(x2-mu)/sigma\n",
    "stats.norm.cdf(z2)-stats.norm.cdf(z1)"
   ]
  },
  {
   "cell_type": "markdown",
   "metadata": {},
   "source": [
    "b- %80’inin hemoglobin değerleri, ortalamaya göre hangi simetrik sınırlar arasındadır?"
   ]
  },
  {
   "cell_type": "code",
   "execution_count": 29,
   "metadata": {},
   "outputs": [],
   "source": [
    "z= stats.norm.ppf((1-0.8)/2)"
   ]
  },
  {
   "cell_type": "code",
   "execution_count": 30,
   "metadata": {},
   "outputs": [
    {
     "data": {
      "text/plain": [
       "\"Yüzde 80'inin hemoglobin değerleri [11.22, 13.78] arasındadır\""
      ]
     },
     "execution_count": 30,
     "metadata": {},
     "output_type": "execute_result"
    }
   ],
   "source": [
    "# z= (x-mu)/(sigma/sqrt(n))\n",
    "\"Yüzde 80'inin hemoglobin değerleri [%.2f, %.2f] arasındadır\" % (mu+ z*sigma, mu-z*sigma)"
   ]
  },
  {
   "cell_type": "markdown",
   "metadata": {},
   "source": [
    "c- üstten %30’unun hemoglobin değerleri kaçtan fazladır?"
   ]
  },
  {
   "cell_type": "code",
   "execution_count": 31,
   "metadata": {},
   "outputs": [
    {
     "data": {
      "text/plain": [
       "13.024400512708041"
      ]
     },
     "execution_count": 31,
     "metadata": {},
     "output_type": "execute_result"
    }
   ],
   "source": [
    "z= stats.norm.ppf(1-0.3)\n",
    "mu+z*sigma"
   ]
  },
  {
   "cell_type": "markdown",
   "metadata": {},
   "source": [
    "d- Alttan %22’sinin hemoglobin değerleri kaçtan daha azdır?"
   ]
  },
  {
   "cell_type": "code",
   "execution_count": 32,
   "metadata": {},
   "outputs": [
    {
     "data": {
      "text/plain": [
       "11.727806785811316"
      ]
     },
     "execution_count": 32,
     "metadata": {},
     "output_type": "execute_result"
    }
   ],
   "source": [
    "z= stats.norm.ppf(0.22)\n",
    "mu+z*sigma"
   ]
  },
  {
   "cell_type": "markdown",
   "metadata": {},
   "source": [
    "e- yüzde kaçının hemoglobin değeri 12.2 gr/dl’den azdır"
   ]
  },
  {
   "cell_type": "code",
   "execution_count": 33,
   "metadata": {},
   "outputs": [
    {
     "data": {
      "text/plain": [
       "0.3820885778110471"
      ]
     },
     "execution_count": 33,
     "metadata": {},
     "output_type": "execute_result"
    }
   ],
   "source": [
    "x=12.2\n",
    "z=(x-mu)/sigma\n",
    "stats.norm.cdf(z)"
   ]
  },
  {
   "cell_type": "markdown",
   "metadata": {},
   "source": [
    "#### Example-13\n",
    "ortalama ve standart sapmasini bildiğiniz bir populasyondan aldığınız bir örneklem, ortalamanın %90 güven aralığını kapsıyor. Bu aralık, ortalamadan kaç sigma uzağı içerir?"
   ]
  },
  {
   "cell_type": "code",
   "execution_count": 34,
   "metadata": {},
   "outputs": [
    {
     "data": {
      "text/plain": [
       "1.6448536269514722"
      ]
     },
     "execution_count": 34,
     "metadata": {},
     "output_type": "execute_result"
    }
   ],
   "source": [
    "CI=0.9\n",
    "stats.norm.ppf((1-CI)/2+CI)"
   ]
  },
  {
   "cell_type": "code",
   "execution_count": 35,
   "metadata": {},
   "outputs": [
    {
     "data": {
      "text/plain": [
       "1.6448536269514729"
      ]
     },
     "execution_count": 35,
     "metadata": {},
     "output_type": "execute_result"
    }
   ],
   "source": [
    "# or\n",
    "-stats.norm.ppf((1-CI)/2)"
   ]
  },
  {
   "cell_type": "markdown",
   "metadata": {},
   "source": [
    "#### Example-14\n",
    "You take a sample (N=9) of test scores from a population. The sample mean is 49, The population standart deviation is 4. What is the %99 confidence interval on the mean?"
   ]
  },
  {
   "cell_type": "code",
   "execution_count": 36,
   "metadata": {},
   "outputs": [],
   "source": [
    "n=9\n",
    "x=49\n",
    "sigma=4\n",
    "CI=0.99"
   ]
  },
  {
   "cell_type": "code",
   "execution_count": 37,
   "metadata": {},
   "outputs": [
    {
     "data": {
      "text/plain": [
       "(45.565560928601464, 52.434439071398536)"
      ]
     },
     "execution_count": 37,
     "metadata": {},
     "output_type": "execute_result"
    }
   ],
   "source": [
    "s=sigma/sqrt(n)\n",
    "stats.norm.interval(CI, loc= x, scale= s)"
   ]
  },
  {
   "cell_type": "code",
   "execution_count": 38,
   "metadata": {},
   "outputs": [
    {
     "data": {
      "text/plain": [
       "(45.565560928601464, 52.434439071398536)"
      ]
     },
     "execution_count": 38,
     "metadata": {},
     "output_type": "execute_result"
    }
   ],
   "source": [
    "# or\n",
    "z=stats.norm.ppf((1-CI)/2+CI)\n",
    "lower_limit= x - z*s\n",
    "upper_limit= x + z*s\n",
    "\n",
    "lower_limit, upper_limit"
   ]
  },
  {
   "cell_type": "markdown",
   "metadata": {},
   "source": [
    "#### Example-15\n",
    "You take a sample (N=25) of test scores from a population. The sample mean is 38, The population standart deviation is 6.5.\n",
    "What is the %95 confidence interval on the mean?"
   ]
  },
  {
   "cell_type": "code",
   "execution_count": 39,
   "metadata": {},
   "outputs": [],
   "source": [
    "n=25\n",
    "x=38\n",
    "sigma=6.5\n",
    "CI=0.95"
   ]
  },
  {
   "cell_type": "code",
   "execution_count": 40,
   "metadata": {},
   "outputs": [
    {
     "data": {
      "text/plain": [
       "(35.45204682009793, 40.54795317990207)"
      ]
     },
     "execution_count": 40,
     "metadata": {},
     "output_type": "execute_result"
    }
   ],
   "source": [
    "s=sigma/sqrt(n)\n",
    "stats.norm.interval(CI, loc= x, scale= s)"
   ]
  },
  {
   "cell_type": "code",
   "execution_count": 41,
   "metadata": {},
   "outputs": [
    {
     "data": {
      "text/plain": [
       "(35.45204682009793, 40.54795317990207)"
      ]
     },
     "execution_count": 41,
     "metadata": {},
     "output_type": "execute_result"
    }
   ],
   "source": [
    "# or\n",
    "z=stats.norm.ppf((1-CI)/2+CI)\n",
    "lower_limit= x - z*s\n",
    "upper_limit= x + z*s\n",
    "\n",
    "lower_limit, upper_limit"
   ]
  },
  {
   "cell_type": "markdown",
   "metadata": {},
   "source": [
    "#### Example-16\n",
    "A sample of size n=11 has a sample mean 15.6 and sample standard deviation 2.4.\n",
    "Construct a %95 confidence interval for the population mean?\n"
   ]
  },
  {
   "cell_type": "code",
   "execution_count": 42,
   "metadata": {},
   "outputs": [
    {
     "data": {
      "text/plain": [
       "(10.89608643710387, 20.303913562896128)"
      ]
     },
     "execution_count": 42,
     "metadata": {},
     "output_type": "execute_result"
    }
   ],
   "source": [
    "n=11\n",
    "x=15.6\n",
    "s=2.4\n",
    "CI=0.95\n",
    "stats.norm.interval(CI, loc= x, scale= s)"
   ]
  },
  {
   "cell_type": "code",
   "execution_count": 43,
   "metadata": {},
   "outputs": [
    {
     "data": {
      "text/plain": [
       "(10.89608643710387, 20.303913562896128)"
      ]
     },
     "execution_count": 43,
     "metadata": {},
     "output_type": "execute_result"
    }
   ],
   "source": [
    "#or\n",
    "z=stats.norm.ppf((1-CI)/2+CI)\n",
    "lower_limit= x - z*s\n",
    "upper_limit= x + z*s\n",
    "\n",
    "lower_limit, upper_limit"
   ]
  },
  {
   "cell_type": "markdown",
   "metadata": {},
   "source": [
    "#### Example-17\n",
    "The Gatsby College student newspaper, The Gazette Coronet, conducted a survey of regional winter recreation resorts about how many days each was in operation with snow-covered outdoor terrain last season, which was a reasonably typical winter weather-wise in the area. From weather bureau records, the population variability in the number of days with snow cover was summarized as a standard deviation of 14 days. A random sample of 49 resorts yielded a sample mean of 75 operational days with snow-covered terrain. Estimate the true (population) mean number of average days with snow-covered terrain with 88% confidence, expressing the results as an interval."
   ]
  },
  {
   "cell_type": "code",
   "execution_count": 44,
   "metadata": {},
   "outputs": [],
   "source": [
    "n=49\n",
    "x=75\n",
    "s=14\n",
    "CI=0.88\n",
    "# interval for mu"
   ]
  },
  {
   "cell_type": "code",
   "execution_count": 45,
   "metadata": {},
   "outputs": [
    {
     "data": {
      "text/plain": [
       "(53.23316967564405, 96.76683032435595)"
      ]
     },
     "execution_count": 45,
     "metadata": {},
     "output_type": "execute_result"
    }
   ],
   "source": [
    "stats.norm.interval(CI, loc= x, scale= s)"
   ]
  },
  {
   "cell_type": "code",
   "execution_count": 46,
   "metadata": {},
   "outputs": [
    {
     "data": {
      "text/plain": [
       "(53.23316967564405, 96.76683032435595)"
      ]
     },
     "execution_count": 46,
     "metadata": {},
     "output_type": "execute_result"
    }
   ],
   "source": [
    "#or\n",
    "z=stats.norm.ppf((1-CI)/2+CI)\n",
    "lower_limit= x - z*s\n",
    "upper_limit= x + z*s\n",
    "\n",
    "lower_limit, upper_limit"
   ]
  },
  {
   "cell_type": "markdown",
   "metadata": {},
   "source": [
    "#### Example-18\n",
    "A study of 35 bolts of carpet showed that their average length was 74.2 yards. The standard deviation of the population is 3.6 yards. What is the 95% confidence interval for the mean length per bolt of carpet?"
   ]
  },
  {
   "cell_type": "code",
   "execution_count": 47,
   "metadata": {},
   "outputs": [
    {
     "data": {
      "text/plain": [
       "(73.00734023153295, 75.39265976846706)"
      ]
     },
     "execution_count": 47,
     "metadata": {},
     "output_type": "execute_result"
    }
   ],
   "source": [
    "n=35\n",
    "x=74.2\n",
    "sigma=3.6\n",
    "CI=0.95\n",
    "s=sigma/sqrt(n)\n",
    "\n",
    "stats.norm.interval(CI, loc= x, scale= s)"
   ]
  },
  {
   "cell_type": "markdown",
   "metadata": {},
   "source": [
    "#### Example-19\n",
    "A random sample of 113 customers, who visited a department store, spent an average of 73 dollars at this store. Suppose the standard deviation of expenditures at this store is σ = 17 dollars. The 98% confidence interval for the population mean (rounded to two decimal places is):"
   ]
  },
  {
   "cell_type": "code",
   "execution_count": 48,
   "metadata": {},
   "outputs": [
    {
     "data": {
      "text/plain": [
       "(69.28, 76.72)"
      ]
     },
     "execution_count": 48,
     "metadata": {},
     "output_type": "execute_result"
    }
   ],
   "source": [
    "n=113\n",
    "x=73\n",
    "sigma=17\n",
    "CI=0.98\n",
    "s=sigma/sqrt(n)\n",
    "\n",
    "i=stats.norm.interval(CI, loc= x, scale= s)\n",
    "round(i[0],2),round(i[1],2)"
   ]
  },
  {
   "cell_type": "markdown",
   "metadata": {},
   "source": [
    "#### Example-20\n",
    "In a random sample of 35 refrigerators, the mean repair cost was 145 dollars and the population standard deviation is 17.8 dollars. Construct a %95 confidence interval for the population mean repair cost."
   ]
  },
  {
   "cell_type": "code",
   "execution_count": 49,
   "metadata": {},
   "outputs": [
    {
     "data": {
      "text/plain": [
       "(139.1029600336907, 150.8970399663093)"
      ]
     },
     "execution_count": 49,
     "metadata": {},
     "output_type": "execute_result"
    }
   ],
   "source": [
    "n=35\n",
    "x=145\n",
    "sigma=17.8\n",
    "CI=0.95\n",
    "s=sigma/sqrt(n)\n",
    "\n",
    "stats.norm.interval(CI, loc= x, scale= s)"
   ]
  },
  {
   "cell_type": "markdown",
   "metadata": {},
   "source": [
    "#### Example-21\n",
    "Bir promosyon kampanyasini reddeden kisilerin ortalama yaslari icin %95 guven duzeyinde guven araligi olusturmak istiyoruz. Reddeden 23 kisilik rastgele orneklem grubumuzun ortalama yasi 47, standart sapmasi 7.2.\n",
    "(normal distribution oldugunu kabul ediyoruz)"
   ]
  },
  {
   "cell_type": "code",
   "execution_count": 159,
   "metadata": {},
   "outputs": [
    {
     "data": {
      "text/plain": [
       "(-2.0738730679040147, 2.0738730679040147)"
      ]
     },
     "execution_count": 159,
     "metadata": {},
     "output_type": "execute_result"
    }
   ],
   "source": [
    "n=23\n",
    "x=47\n",
    "CI=0.95\n",
    "df=n-1\n",
    "s=7.2\n",
    "stats.t.interval(CI, df)"
   ]
  },
  {
   "cell_type": "code",
   "execution_count": 162,
   "metadata": {},
   "outputs": [
    {
     "data": {
      "text/plain": [
       "[43.88648652140417, 50.11351347859583]"
      ]
     },
     "execution_count": 162,
     "metadata": {},
     "output_type": "execute_result"
    }
   ],
   "source": [
    "# populasyon std bilinmiyor, sample std biliniyor, o halde t score kullanilir.\n",
    "sm=s/sqrt(n)\n",
    "t=stats.t.interval(CI, df)[1]\n",
    "[ x-t*sm, x+t*sm]"
   ]
  },
  {
   "cell_type": "markdown",
   "metadata": {},
   "source": [
    "\n",
    "#### Example-22\n",
    "The mean emission of all engines of a new design needs to be below 20ppm if the design is to meet new emission requirements. Ten engines are manufactured for testing purposes, and the emission level of each is determined. \n",
    "\n",
    "Data:\n",
    "15.6, 16.2, 22.5, 20.5, 16.4, 19.4, 16.6, 17.9, 12.7, 13.9\n",
    "\n",
    "Does the data supply sufficient evidence to conclude that type of engine meets the new standard, assuming we are willing to risk a Type I error (false alarm, reject the Null when it is true) with a probability = 0.01?"
   ]
  },
  {
   "cell_type": "code",
   "execution_count": 170,
   "metadata": {},
   "outputs": [
    {
     "data": {
      "text/plain": [
       "(-2.2621571627409915, 2.2621571627409915)"
      ]
     },
     "execution_count": 170,
     "metadata": {},
     "output_type": "execute_result"
    }
   ],
   "source": [
    "# populasyon standart sapmasi bilinmediginde z skoru kullanilmaz, \n",
    "# ve t skoru ile sample standart deviation kullanilir.\n",
    "data=[15.6, 16.2, 22.5, 20.5, 16.4, 19.4, 16.6, 17.9, 12.7, 13.9]\n",
    "n=10\n",
    "x=np.mean(data)\n",
    "CI=0.95\n",
    "df=n-1\n",
    "stats.t.interval(CI, df)"
   ]
  },
  {
   "attachments": {
    "2.png": {
     "image/png": "[encoded data removed]"
    }
   },
   "cell_type": "markdown",
   "metadata": {},
   "source": [
    "Standard Deviation of Sample:![2.png](attachment:2.png)"
   ]
  },
  {
   "attachments": {
    "3.png": {
     "image/png": "[encoded data removed]"
    }
   },
   "cell_type": "markdown",
   "metadata": {},
   "source": [
    "Standard Error of Sample:![3.png](attachment:3.png)"
   ]
  },
  {
   "cell_type": "code",
   "execution_count": 171,
   "metadata": {},
   "outputs": [],
   "source": [
    "s=np.std(data)*sqrt(n/df) #Standard Deviation of Sample:"
   ]
  },
  {
   "cell_type": "code",
   "execution_count": 172,
   "metadata": {},
   "outputs": [
    {
     "data": {
      "text/plain": [
       "0.9428149341201592"
      ]
     },
     "execution_count": 172,
     "metadata": {},
     "output_type": "execute_result"
    }
   ],
   "source": [
    "sm=s/sqrt(n) # Standard Error of Sample:\n",
    "sm"
   ]
  },
  {
   "cell_type": "code",
   "execution_count": 152,
   "metadata": {},
   "outputs": [
    {
     "data": {
      "text/plain": [
       "[15.037204443640904, 19.302795556359094]"
      ]
     },
     "execution_count": 152,
     "metadata": {},
     "output_type": "execute_result"
    }
   ],
   "source": [
    "# t=(x-mu) / sm   >>> mu =[ x-t*sm, x+t*sm]\n",
    "t=stats.t.interval(CI, df)[1]\n",
    "[ x-t*sm, x+t*sm]"
   ]
  },
  {
   "attachments": {
    "4.png": {
     "image/png": "[encoded data removed]"
    }
   },
   "cell_type": "markdown",
   "metadata": {},
   "source": [
    "t statistic:![4.png](attachment:4.png)"
   ]
  },
  {
   "cell_type": "code",
   "execution_count": 153,
   "metadata": {},
   "outputs": [
    {
     "data": {
      "text/plain": [
       "'t statistic: -3.00'"
      ]
     },
     "execution_count": 153,
     "metadata": {},
     "output_type": "execute_result"
    }
   ],
   "source": [
    "xm=20\n",
    "\"t statistic: %.2f\" % ((x-xm)/sm)"
   ]
  },
  {
   "cell_type": "markdown",
   "metadata": {},
   "source": [
    "#### Example-23\n",
    "Seven patients’ blood pressures have been measured after having been given a new drug for 3 months. They had blood pressure increases of 1.5, 2.9, 0.9, 3.9, 3.2, 2.1, and 1.9. Construct a 95% confidence interval for the true expected blood pressure increase for all patients in a population"
   ]
  },
  {
   "cell_type": "code",
   "execution_count": 173,
   "metadata": {},
   "outputs": [],
   "source": [
    "data=[1.5, 2.9, 0.9, 3.9, 3.2, 2.1,1.9]\n",
    "n=7\n",
    "x=np.mean(data)\n",
    "CI=0.95\n",
    "df=n-1"
   ]
  },
  {
   "cell_type": "code",
   "execution_count": 176,
   "metadata": {},
   "outputs": [],
   "source": [
    "s=np.std(data)*sqrt(n/df) #Standard Deviation of Sample:"
   ]
  },
  {
   "cell_type": "code",
   "execution_count": 177,
   "metadata": {},
   "outputs": [
    {
     "data": {
      "text/plain": [
       "0.393916321097782"
      ]
     },
     "execution_count": 177,
     "metadata": {},
     "output_type": "execute_result"
    }
   ],
   "source": [
    "sm=s/sqrt(n) # Standard Error of Sample:\n",
    "sm"
   ]
  },
  {
   "cell_type": "code",
   "execution_count": 178,
   "metadata": {},
   "outputs": [
    {
     "data": {
      "text/plain": [
       "(-2.4469118487916806, 2.4469118487916806)"
      ]
     },
     "execution_count": 178,
     "metadata": {},
     "output_type": "execute_result"
    }
   ],
   "source": [
    "stats.t.interval(CI, df)"
   ]
  },
  {
   "cell_type": "code",
   "execution_count": 179,
   "metadata": {},
   "outputs": [
    {
     "data": {
      "text/plain": [
       "[1.378978629330552, 3.306735656383734]"
      ]
     },
     "execution_count": 179,
     "metadata": {},
     "output_type": "execute_result"
    }
   ],
   "source": [
    "# t=(x-mu) / sm   >>> mu =[ x-t*sm, x+t*sm]\n",
    "t=stats.t.interval(CI, df)[1]\n",
    "[ x-t*sm, x+t*sm]"
   ]
  },
  {
   "cell_type": "markdown",
   "metadata": {},
   "source": [
    "#### Example-24\n",
    "Bir fabrikanin cikardigi gunluk sulfuroksit miktari ortalamasi icin %99 guven duzeyinde guven araligi olusturmak istiyoruz. 10 gunluk arastirmaya gore ortalama yasi 8 metrekup, standart sapma 1.83 oldugu goruluyor.\n",
    "(normal distribution oldugunu kabul ediyoruz)"
   ]
  },
  {
   "cell_type": "code",
   "execution_count": 165,
   "metadata": {},
   "outputs": [],
   "source": [
    "n=10\n",
    "x=8\n",
    "CI=0.99\n",
    "df=n-1\n",
    "s=1.83"
   ]
  },
  {
   "cell_type": "code",
   "execution_count": 166,
   "metadata": {},
   "outputs": [
    {
     "data": {
      "text/plain": [
       "[6.119330531768846, 9.880669468231154]"
      ]
     },
     "execution_count": 166,
     "metadata": {},
     "output_type": "execute_result"
    }
   ],
   "source": [
    "# populasyon std bilinmiyor, sample std biliniyor, o halde t score kullanilir.\n",
    "sm=s/sqrt(n)\n",
    "t=stats.t.interval(CI, df)[1]\n",
    "[ x-t*sm, x+t*sm]"
   ]
  },
  {
   "cell_type": "markdown",
   "metadata": {},
   "source": [
    "#### Example-25\n",
    "Patients with normal hearing in one ear and unaided sensorineural hearing loss in the other are characterized as suffering from unilateral hearing loss. In a study reported in the American Journal of Audiology (Mar. 1995), eight patients with unilateral hearing loss were fitted with a special wireless hearing aid in the “bad” ear. The absolute sound pressure level (SPL) was then measured near the eardrum of the ear when noise was produced at a frequency of 500 hertz. The SPLs of the eight patients, recorded in decibels, are listed below.  \n",
    "\n",
    "data=[73.0, 80.1, 82.8, 76.8, 73.5, 74.3, 76.0, 68.1]\n",
    "\n",
    "Construct a 90% confidence interval for the population mean SPL of unilateral hearing loss patients when noise is produced at a frequency of 500 hertz.\n"
   ]
  },
  {
   "cell_type": "code",
   "execution_count": 183,
   "metadata": {},
   "outputs": [],
   "source": [
    "data=[73.0, 80.1, 82.8, 76.8, 73.5, 74.3, 76.0, 68.1]\n",
    "n=8\n",
    "x=np.mean(data)\n",
    "CI=0.90\n",
    "df=n-1"
   ]
  },
  {
   "cell_type": "code",
   "execution_count": 184,
   "metadata": {},
   "outputs": [
    {
     "data": {
      "text/plain": [
       "1.5968439855808436"
      ]
     },
     "execution_count": 184,
     "metadata": {},
     "output_type": "execute_result"
    }
   ],
   "source": [
    "s=np.std(data)*sqrt(n/df) #Standard Deviation of Sample:\n",
    "sm=s/sqrt(n) # Standard Error of Sample:\n",
    "sm"
   ]
  },
  {
   "cell_type": "code",
   "execution_count": 192,
   "metadata": {},
   "outputs": [
    {
     "data": {
      "text/plain": [
       "[72.5496535492977, 78.60034645070228]"
      ]
     },
     "execution_count": 192,
     "metadata": {},
     "output_type": "execute_result"
    }
   ],
   "source": [
    "# t=(x-mu) / sm   >>> mu =[ x-t*sm, x+t*sm]\n",
    "t=stats.t.interval(CI, df)[1]\n",
    "[ x-t*sm, x+t*sm]"
   ]
  }
 ],
 "metadata": {
  "kernelspec": {
   "display_name": "Python 3",
   "language": "python",
   "name": "python3"
  },
  "language_info": {
   "codemirror_mode": {
    "name": "ipython",
    "version": 3
   },
   "file_extension": ".py",
   "mimetype": "text/x-python",
   "name": "python",
   "nbconvert_exporter": "python",
   "pygments_lexer": "ipython3",
   "version": "3.8.5"
  }
 },
 "nbformat": 4,
 "nbformat_minor": 4
}
